{
    "cells": [
        {
            "cell_type": "code",
            "execution_count": 1,
            "metadata": {
                "azdata_cell_guid": "af21fcd5-9f62-438a-a26b-3677056fd93a",
                "language": "sql",
                "tags": [
                    "hide_input"
                ]
            },
            "outputs": [
                {
                    "data": {
                        "text/html": [
                            "(1 row affected)"
                        ]
                    },
                    "metadata": {},
                    "output_type": "display_data"
                },
                {
                    "data": {
                        "text/html": [
                            "(1 row affected)"
                        ]
                    },
                    "metadata": {},
                    "output_type": "display_data"
                },
                {
                    "data": {
                        "text/html": [
                            "(1 row affected)"
                        ]
                    },
                    "metadata": {},
                    "output_type": "display_data"
                },
                {
                    "data": {
                        "text/html": [
                            "(1 row affected)"
                        ]
                    },
                    "metadata": {},
                    "output_type": "display_data"
                },
                {
                    "data": {
                        "text/html": [
                            "(1 row affected)"
                        ]
                    },
                    "metadata": {},
                    "output_type": "display_data"
                },
                {
                    "data": {
                        "text/html": [
                            "(1 row affected)"
                        ]
                    },
                    "metadata": {},
                    "output_type": "display_data"
                },
                {
                    "data": {
                        "text/html": [
                            "(1 row affected)"
                        ]
                    },
                    "metadata": {},
                    "output_type": "display_data"
                },
                {
                    "data": {
                        "text/html": [
                            "(1 row affected)"
                        ]
                    },
                    "metadata": {},
                    "output_type": "display_data"
                },
                {
                    "data": {
                        "text/html": [
                            "(1 row affected)"
                        ]
                    },
                    "metadata": {},
                    "output_type": "display_data"
                },
                {
                    "data": {
                        "text/html": [
                            "(1 row affected)"
                        ]
                    },
                    "metadata": {},
                    "output_type": "display_data"
                },
                {
                    "data": {
                        "text/html": [
                            "(1 row affected)"
                        ]
                    },
                    "metadata": {},
                    "output_type": "display_data"
                },
                {
                    "data": {
                        "text/html": [
                            "(1 row affected)"
                        ]
                    },
                    "metadata": {},
                    "output_type": "display_data"
                },
                {
                    "data": {
                        "text/html": [
                            "(1 row affected)"
                        ]
                    },
                    "metadata": {},
                    "output_type": "display_data"
                },
                {
                    "data": {
                        "text/html": [
                            "(1 row affected)"
                        ]
                    },
                    "metadata": {},
                    "output_type": "display_data"
                },
                {
                    "data": {
                        "text/html": [
                            "(1 row affected)"
                        ]
                    },
                    "metadata": {},
                    "output_type": "display_data"
                },
                {
                    "data": {
                        "text/html": [
                            "(1 row affected)"
                        ]
                    },
                    "metadata": {},
                    "output_type": "display_data"
                },
                {
                    "data": {
                        "text/html": [
                            "(1 row affected)"
                        ]
                    },
                    "metadata": {},
                    "output_type": "display_data"
                },
                {
                    "data": {
                        "text/html": [
                            "(1 row affected)"
                        ]
                    },
                    "metadata": {},
                    "output_type": "display_data"
                },
                {
                    "data": {
                        "text/html": [
                            "(1 row affected)"
                        ]
                    },
                    "metadata": {},
                    "output_type": "display_data"
                },
                {
                    "data": {
                        "text/html": [
                            "(1 row affected)"
                        ]
                    },
                    "metadata": {},
                    "output_type": "display_data"
                },
                {
                    "data": {
                        "text/html": [
                            "(1 row affected)"
                        ]
                    },
                    "metadata": {},
                    "output_type": "display_data"
                },
                {
                    "data": {
                        "text/html": [
                            "(1 row affected)"
                        ]
                    },
                    "metadata": {},
                    "output_type": "display_data"
                },
                {
                    "data": {
                        "text/html": [
                            "(1 row affected)"
                        ]
                    },
                    "metadata": {},
                    "output_type": "display_data"
                },
                {
                    "data": {
                        "text/html": [
                            "(1 row affected)"
                        ]
                    },
                    "metadata": {},
                    "output_type": "display_data"
                },
                {
                    "data": {
                        "text/html": [
                            "(1 row affected)"
                        ]
                    },
                    "metadata": {},
                    "output_type": "display_data"
                },
                {
                    "data": {
                        "text/html": [
                            "(1 row affected)"
                        ]
                    },
                    "metadata": {},
                    "output_type": "display_data"
                },
                {
                    "data": {
                        "text/html": [
                            "(1 row affected)"
                        ]
                    },
                    "metadata": {},
                    "output_type": "display_data"
                },
                {
                    "data": {
                        "text/html": [
                            "(1 row affected)"
                        ]
                    },
                    "metadata": {},
                    "output_type": "display_data"
                },
                {
                    "data": {
                        "text/html": [
                            "(1 row affected)"
                        ]
                    },
                    "metadata": {},
                    "output_type": "display_data"
                },
                {
                    "data": {
                        "text/html": [
                            "(1 row affected)"
                        ]
                    },
                    "metadata": {},
                    "output_type": "display_data"
                },
                {
                    "data": {
                        "text/html": [
                            "(1 row affected)"
                        ]
                    },
                    "metadata": {},
                    "output_type": "display_data"
                },
                {
                    "data": {
                        "text/html": [
                            "(1 row affected)"
                        ]
                    },
                    "metadata": {},
                    "output_type": "display_data"
                },
                {
                    "data": {
                        "text/html": [
                            "(1 row affected)"
                        ]
                    },
                    "metadata": {},
                    "output_type": "display_data"
                },
                {
                    "data": {
                        "text/html": [
                            "(1 row affected)"
                        ]
                    },
                    "metadata": {},
                    "output_type": "display_data"
                },
                {
                    "data": {
                        "text/html": [
                            "(1 row affected)"
                        ]
                    },
                    "metadata": {},
                    "output_type": "display_data"
                },
                {
                    "data": {
                        "text/html": [
                            "(1 row affected)"
                        ]
                    },
                    "metadata": {},
                    "output_type": "display_data"
                },
                {
                    "data": {
                        "text/html": [
                            "(1 row affected)"
                        ]
                    },
                    "metadata": {},
                    "output_type": "display_data"
                },
                {
                    "data": {
                        "text/html": [
                            "(1 row affected)"
                        ]
                    },
                    "metadata": {},
                    "output_type": "display_data"
                },
                {
                    "data": {
                        "text/html": [
                            "(1 row affected)"
                        ]
                    },
                    "metadata": {},
                    "output_type": "display_data"
                },
                {
                    "data": {
                        "text/html": [
                            "(1 row affected)"
                        ]
                    },
                    "metadata": {},
                    "output_type": "display_data"
                },
                {
                    "data": {
                        "text/html": [
                            "(1 row affected)"
                        ]
                    },
                    "metadata": {},
                    "output_type": "display_data"
                },
                {
                    "data": {
                        "text/html": [
                            "(1 row affected)"
                        ]
                    },
                    "metadata": {},
                    "output_type": "display_data"
                },
                {
                    "data": {
                        "text/html": [
                            "(1 row affected)"
                        ]
                    },
                    "metadata": {},
                    "output_type": "display_data"
                },
                {
                    "data": {
                        "text/html": [
                            "(1 row affected)"
                        ]
                    },
                    "metadata": {},
                    "output_type": "display_data"
                },
                {
                    "data": {
                        "text/html": [
                            "(1 row affected)"
                        ]
                    },
                    "metadata": {},
                    "output_type": "display_data"
                },
                {
                    "data": {
                        "text/html": [
                            "(1 row affected)"
                        ]
                    },
                    "metadata": {},
                    "output_type": "display_data"
                },
                {
                    "data": {
                        "text/html": [
                            "(1 row affected)"
                        ]
                    },
                    "metadata": {},
                    "output_type": "display_data"
                },
                {
                    "data": {
                        "text/html": [
                            "(1 row affected)"
                        ]
                    },
                    "metadata": {},
                    "output_type": "display_data"
                },
                {
                    "data": {
                        "text/html": [
                            "(1 row affected)"
                        ]
                    },
                    "metadata": {},
                    "output_type": "display_data"
                },
                {
                    "data": {
                        "text/html": [
                            "Total execution time: 00:00:00.054"
                        ]
                    },
                    "metadata": {},
                    "output_type": "display_data"
                }
            ],
            "source": [
                "CREATE TABLE RecordLabel(\n",
                "LabelID int not null,\n",
                "Name varchar(50) not null\n",
                ");\n",
                "\n",
                "\n",
                "\n",
                "INSERT INTO RecordLabel VALUES(1,'Blackened');\n",
                "INSERT INTO RecordLabel VALUES(3,'Universal');\n",
                "INSERT INTO RecordLabel VALUES(4,'MCA');\n",
                "INSERT INTO RecordLabel VALUES(5,'Elektra');\n",
                "INSERT INTO RecordLabel VALUES(2,'Warner Bros');\n",
                "\n",
                "\n",
                "\n",
                "ALTER TABLE recordLabel\n",
                "ADD CONSTRAINT PK_reclabel\n",
                "PRIMARY KEY (labelid);\n",
                "\n",
                "\n",
                "\n",
                "\n",
                "CREATE TABLE Artist (\n",
                "LabelId int not null,\n",
                "ArtistId int not null,\n",
                "Name varchar(50) not null);\n",
                "INSERT INTO Artist VALUES(1,1,'Metallica');\n",
                "INSERT INTO Artist VALUES(1,2,'Megadeth');\n",
                "INSERT INTO Artist VALUES(1,3,'Anthrax');\n",
                "INSERT INTO Artist VALUES(2,4,'Eric Clapton');\n",
                "INSERT INTO Artist VALUES(2,5,'ZZ Top');\n",
                "INSERT INTO Artist VALUES(2,6,'Van Halen');\n",
                "INSERT INTO Artist VALUES(3,7,'Lynyrd Skynyrd');\n",
                "INSERT INTO Artist VALUES(3,8,'ACDC');\n",
                "\n",
                "\n",
                "\n",
                "ALTER TABLE artist\n",
                "ADD CONSTRAINT PK_artist\n",
                "PRIMARY KEY (artistid);\n",
                "\n",
                "\n",
                "\n",
                "ALTER TABLE artist\n",
                "ADD CONSTRAINT fk_label\n",
                "FOREIGN KEY (labelid)\n",
                "REFERENCES recordLabel (labelid);\n",
                "\n",
                "CREATE TABLE Album (\n",
                "ArtistId int not null,\n",
                "AlbumId int not null,\n",
                "Name varchar(50) not null,\n",
                "Year int not null\n",
                ");\n",
                "INSERT INTO Album VALUES(1,1,'...And Justice For All',1988);\n",
                "INSERT INTO Album VALUES(1,2,'Black Album',1991);\n",
                "INSERT INTO Album VALUES(1,3,'Master of Puppets',1986);\n",
                "INSERT INTO Album VALUES(2,4,'Endgame',2009);\n",
                "INSERT INTO Album VALUES(2,5,'Peace Sells',1986);\n",
                "INSERT INTO Album VALUES(3,6,'The Greater of 2 Evils',2004);\n",
                "INSERT INTO Album VALUES(4,7,'Reptile',2001);\n",
                "INSERT INTO Album VALUES(4,8,'Riding with the King',2000);\n",
                "INSERT INTO Album VALUES(5,9,'Greatest Hits',1992);\n",
                "INSERT INTO Album VALUES(6,10,'Greatest Hits',2004);\n",
                "INSERT INTO Album VALUES(7,11,'All-Time Greatest Hits',1975);\n",
                "INSERT INTO Album VALUES(8,12,'Greatest Hits',2003);\n",
                "\n",
                "\n",
                "\n",
                "ALTER TABLE album\n",
                "ADD CONSTRAINT PK_album\n",
                "PRIMARY KEY (albumid);\n",
                "\n",
                "ALTER TABLE album\n",
                "ADD CONSTRAINT fk_artist\n",
                "FOREIGN KEY (artistid)\n",
                "REFERENCES artist (artistid);\n",
                "\n",
                "\n",
                "\n",
                "CREATE TABLE Song (\n",
                "AlbumId int not null,\n",
                "SongId int not null,\n",
                "Name varchar(50) not null,\n",
                "Duration real not null\n",
                ");\n",
                "INSERT INTO Song VALUES(1,1,'One',7.25);\n",
                "INSERT INTO Song VALUES(1,2,'Blackened',6.42);\n",
                "INSERT INTO Song VALUES(2,3,'Enter Sandman',5.3);\n",
                "INSERT INTO Song VALUES(2,4,'Sad But True',5.29);\n",
                "INSERT INTO Song VALUES(3,5,'Master of Puppets',8.35);\n",
                "INSERT INTO Song VALUES(3,6,'Battery',5.13);\n",
                "INSERT INTO Song VALUES(4,7,'Dialectic Chaos',2.26);\n",
                "INSERT INTO Song VALUES(4,8,'Endgame',5.57);\n",
                "INSERT INTO Song VALUES(5,9,'Peace Sells',4.09);\n",
                "INSERT INTO Song VALUES(5,10,'The Conjuring',5.09);\n",
                "INSERT INTO Song VALUES(6,11,'Madhouse',4.26);\n",
                "INSERT INTO Song VALUES(6,12,'I am the Law',6.03);\n",
                "INSERT INTO Song VALUES(7,13,'Reptile',3.36);\n",
                "INSERT INTO Song VALUES(7,14,'Modern Girl',4.49);\n",
                "INSERT INTO Song VALUES(8,15,'Riding with the King',4.23);\n",
                "INSERT INTO Song VALUES(8,16,'Key to the Highway',3.39);\n",
                "INSERT INTO Song VALUES(9,17,'Sharp Dressed Man',4.15);\n",
                "INSERT INTO Song VALUES(9,18,'Legs',4.32);\n",
                "INSERT INTO Song VALUES(10,19,'Eruption',1.43);\n",
                "INSERT INTO Song VALUES(10,20,'Hot For Teacher',4.43);\n",
                "INSERT INTO Song VALUES(11,21,'Sweet Home Alabama',4.45);\n",
                "INSERT INTO Song VALUES(11,22,'Free Bird',14.23);\n",
                "INSERT INTO Song VALUES(12,23,'Thunderstruck',4.52);\n",
                "INSERT INTO Song VALUES(12,24,'T.N.T',3.35);\n",
                "\n",
                "\n",
                "\n",
                "ALTER TABLE song\n",
                "ADD CONSTRAINT PK_song\n",
                "PRIMARY KEY (songid);\n",
                "\n",
                "ALTER TABLE song\n",
                "ADD CONSTRAINT fk_album\n",
                "FOREIGN KEY (albumid)\n",
                "REFERENCES album (albumid);\n"
            ]
        },
        {
            "cell_type": "code",
            "execution_count": null,
            "metadata": {},
            "outputs": [],
            "source": []
        },
        {
            "cell_type": "code",
            "execution_count": null,
            "metadata": {},
            "outputs": [],
            "source": []
        },
        {
            "cell_type": "code",
            "execution_count": 3,
            "metadata": {
                "azdata_cell_guid": "cdd0c069-af4d-43f2-99d1-f8e99e5d0807",
                "language": "sql"
            },
            "outputs": [
                {
                    "data": {
                        "text/html": [
                            "(12 rows affected)"
                        ]
                    },
                    "metadata": {},
                    "output_type": "display_data"
                },
                {
                    "data": {
                        "text/html": [
                            "(8 rows affected)"
                        ]
                    },
                    "metadata": {},
                    "output_type": "display_data"
                },
                {
                    "data": {
                        "text/html": [
                            "(5 rows affected)"
                        ]
                    },
                    "metadata": {},
                    "output_type": "display_data"
                },
                {
                    "data": {
                        "text/html": [
                            "(24 rows affected)"
                        ]
                    },
                    "metadata": {},
                    "output_type": "display_data"
                },
                {
                    "data": {
                        "text/html": [
                            "Total execution time: 00:00:00.010"
                        ]
                    },
                    "metadata": {},
                    "output_type": "display_data"
                },
                {
                    "data": {
                        "application/vnd.dataresource+json": {
                            "data": [
                                {
                                    "0": "1",
                                    "1": "1",
                                    "2": "...And Justice For All",
                                    "3": "1988"
                                },
                                {
                                    "0": "1",
                                    "1": "2",
                                    "2": "Black Album",
                                    "3": "1991"
                                },
                                {
                                    "0": "1",
                                    "1": "3",
                                    "2": "Master of Puppets",
                                    "3": "1986"
                                },
                                {
                                    "0": "2",
                                    "1": "4",
                                    "2": "Endgame",
                                    "3": "2009"
                                },
                                {
                                    "0": "2",
                                    "1": "5",
                                    "2": "Peace Sells",
                                    "3": "1986"
                                },
                                {
                                    "0": "3",
                                    "1": "6",
                                    "2": "The Greater of 2 Evils",
                                    "3": "2004"
                                },
                                {
                                    "0": "4",
                                    "1": "7",
                                    "2": "Reptile",
                                    "3": "2001"
                                },
                                {
                                    "0": "4",
                                    "1": "8",
                                    "2": "Riding with the King",
                                    "3": "2000"
                                },
                                {
                                    "0": "5",
                                    "1": "9",
                                    "2": "Greatest Hits",
                                    "3": "1992"
                                },
                                {
                                    "0": "6",
                                    "1": "10",
                                    "2": "Greatest Hits",
                                    "3": "2004"
                                },
                                {
                                    "0": "7",
                                    "1": "11",
                                    "2": "All-Time Greatest Hits",
                                    "3": "1975"
                                },
                                {
                                    "0": "8",
                                    "1": "12",
                                    "2": "Greatest Hits",
                                    "3": "2003"
                                }
                            ],
                            "schema": {
                                "fields": [
                                    {
                                        "name": "ArtistId"
                                    },
                                    {
                                        "name": "AlbumId"
                                    },
                                    {
                                        "name": "Name"
                                    },
                                    {
                                        "name": "Year"
                                    }
                                ]
                            }
                        },
                        "text/html": [
                            "<table><tr><th>ArtistId</th><th>AlbumId</th><th>Name</th><th>Year</th></tr><tr><td>1</td><td>1</td><td>...And Justice For All</td><td>1988</td></tr><tr><td>1</td><td>2</td><td>Black Album</td><td>1991</td></tr><tr><td>1</td><td>3</td><td>Master of Puppets</td><td>1986</td></tr><tr><td>2</td><td>4</td><td>Endgame</td><td>2009</td></tr><tr><td>2</td><td>5</td><td>Peace Sells</td><td>1986</td></tr><tr><td>3</td><td>6</td><td>The Greater of 2 Evils</td><td>2004</td></tr><tr><td>4</td><td>7</td><td>Reptile</td><td>2001</td></tr><tr><td>4</td><td>8</td><td>Riding with the King</td><td>2000</td></tr><tr><td>5</td><td>9</td><td>Greatest Hits</td><td>1992</td></tr><tr><td>6</td><td>10</td><td>Greatest Hits</td><td>2004</td></tr><tr><td>7</td><td>11</td><td>All-Time Greatest Hits</td><td>1975</td></tr><tr><td>8</td><td>12</td><td>Greatest Hits</td><td>2003</td></tr></table>"
                        ]
                    },
                    "execution_count": 3,
                    "metadata": {},
                    "output_type": "execute_result"
                },
                {
                    "data": {
                        "application/vnd.dataresource+json": {
                            "data": [
                                {
                                    "0": "1",
                                    "1": "1",
                                    "2": "Metallica"
                                },
                                {
                                    "0": "1",
                                    "1": "2",
                                    "2": "Megadeth"
                                },
                                {
                                    "0": "1",
                                    "1": "3",
                                    "2": "Anthrax"
                                },
                                {
                                    "0": "2",
                                    "1": "4",
                                    "2": "Eric Clapton"
                                },
                                {
                                    "0": "2",
                                    "1": "5",
                                    "2": "ZZ Top"
                                },
                                {
                                    "0": "2",
                                    "1": "6",
                                    "2": "Van Halen"
                                },
                                {
                                    "0": "3",
                                    "1": "7",
                                    "2": "Lynyrd Skynyrd"
                                },
                                {
                                    "0": "3",
                                    "1": "8",
                                    "2": "ACDC"
                                }
                            ],
                            "schema": {
                                "fields": [
                                    {
                                        "name": "LabelId"
                                    },
                                    {
                                        "name": "ArtistId"
                                    },
                                    {
                                        "name": "Name"
                                    }
                                ]
                            }
                        },
                        "text/html": [
                            "<table><tr><th>LabelId</th><th>ArtistId</th><th>Name</th></tr><tr><td>1</td><td>1</td><td>Metallica</td></tr><tr><td>1</td><td>2</td><td>Megadeth</td></tr><tr><td>1</td><td>3</td><td>Anthrax</td></tr><tr><td>2</td><td>4</td><td>Eric Clapton</td></tr><tr><td>2</td><td>5</td><td>ZZ Top</td></tr><tr><td>2</td><td>6</td><td>Van Halen</td></tr><tr><td>3</td><td>7</td><td>Lynyrd Skynyrd</td></tr><tr><td>3</td><td>8</td><td>ACDC</td></tr></table>"
                        ]
                    },
                    "execution_count": 3,
                    "metadata": {},
                    "output_type": "execute_result"
                },
                {
                    "data": {
                        "application/vnd.dataresource+json": {
                            "data": [
                                {
                                    "0": "1",
                                    "1": "Blackened"
                                },
                                {
                                    "0": "2",
                                    "1": "Warner Bros"
                                },
                                {
                                    "0": "3",
                                    "1": "Universal"
                                },
                                {
                                    "0": "4",
                                    "1": "MCA"
                                },
                                {
                                    "0": "5",
                                    "1": "Elektra"
                                }
                            ],
                            "schema": {
                                "fields": [
                                    {
                                        "name": "LabelID"
                                    },
                                    {
                                        "name": "Name"
                                    }
                                ]
                            }
                        },
                        "text/html": [
                            "<table><tr><th>LabelID</th><th>Name</th></tr><tr><td>1</td><td>Blackened</td></tr><tr><td>2</td><td>Warner Bros</td></tr><tr><td>3</td><td>Universal</td></tr><tr><td>4</td><td>MCA</td></tr><tr><td>5</td><td>Elektra</td></tr></table>"
                        ]
                    },
                    "execution_count": 3,
                    "metadata": {},
                    "output_type": "execute_result"
                },
                {
                    "data": {
                        "application/vnd.dataresource+json": {
                            "data": [
                                {
                                    "0": "1",
                                    "1": "1",
                                    "2": "One",
                                    "3": "7.25"
                                },
                                {
                                    "0": "1",
                                    "1": "2",
                                    "2": "Blackened",
                                    "3": "6.42"
                                },
                                {
                                    "0": "2",
                                    "1": "3",
                                    "2": "Enter Sandman",
                                    "3": "5.3"
                                },
                                {
                                    "0": "2",
                                    "1": "4",
                                    "2": "Sad But True",
                                    "3": "5.29"
                                },
                                {
                                    "0": "3",
                                    "1": "5",
                                    "2": "Master of Puppets",
                                    "3": "8.35"
                                },
                                {
                                    "0": "3",
                                    "1": "6",
                                    "2": "Battery",
                                    "3": "5.13"
                                },
                                {
                                    "0": "4",
                                    "1": "7",
                                    "2": "Dialectic Chaos",
                                    "3": "2.26"
                                },
                                {
                                    "0": "4",
                                    "1": "8",
                                    "2": "Endgame",
                                    "3": "5.57"
                                },
                                {
                                    "0": "5",
                                    "1": "9",
                                    "2": "Peace Sells",
                                    "3": "4.09"
                                },
                                {
                                    "0": "5",
                                    "1": "10",
                                    "2": "The Conjuring",
                                    "3": "5.09"
                                },
                                {
                                    "0": "6",
                                    "1": "11",
                                    "2": "Madhouse",
                                    "3": "4.26"
                                },
                                {
                                    "0": "6",
                                    "1": "12",
                                    "2": "I am the Law",
                                    "3": "6.03"
                                },
                                {
                                    "0": "7",
                                    "1": "13",
                                    "2": "Reptile",
                                    "3": "3.36"
                                },
                                {
                                    "0": "7",
                                    "1": "14",
                                    "2": "Modern Girl",
                                    "3": "4.49"
                                },
                                {
                                    "0": "8",
                                    "1": "15",
                                    "2": "Riding with the King",
                                    "3": "4.23"
                                },
                                {
                                    "0": "8",
                                    "1": "16",
                                    "2": "Key to the Highway",
                                    "3": "3.39"
                                },
                                {
                                    "0": "9",
                                    "1": "17",
                                    "2": "Sharp Dressed Man",
                                    "3": "4.15"
                                },
                                {
                                    "0": "9",
                                    "1": "18",
                                    "2": "Legs",
                                    "3": "4.32"
                                },
                                {
                                    "0": "10",
                                    "1": "19",
                                    "2": "Eruption",
                                    "3": "1.43"
                                },
                                {
                                    "0": "10",
                                    "1": "20",
                                    "2": "Hot For Teacher",
                                    "3": "4.43"
                                },
                                {
                                    "0": "11",
                                    "1": "21",
                                    "2": "Sweet Home Alabama",
                                    "3": "4.45"
                                },
                                {
                                    "0": "11",
                                    "1": "22",
                                    "2": "Free Bird",
                                    "3": "14.23"
                                },
                                {
                                    "0": "12",
                                    "1": "23",
                                    "2": "Thunderstruck",
                                    "3": "4.52"
                                },
                                {
                                    "0": "12",
                                    "1": "24",
                                    "2": "T.N.T",
                                    "3": "3.35"
                                }
                            ],
                            "schema": {
                                "fields": [
                                    {
                                        "name": "AlbumId"
                                    },
                                    {
                                        "name": "SongId"
                                    },
                                    {
                                        "name": "Name"
                                    },
                                    {
                                        "name": "Duration"
                                    }
                                ]
                            }
                        },
                        "text/html": [
                            "<table><tr><th>AlbumId</th><th>SongId</th><th>Name</th><th>Duration</th></tr><tr><td>1</td><td>1</td><td>One</td><td>7.25</td></tr><tr><td>1</td><td>2</td><td>Blackened</td><td>6.42</td></tr><tr><td>2</td><td>3</td><td>Enter Sandman</td><td>5.3</td></tr><tr><td>2</td><td>4</td><td>Sad But True</td><td>5.29</td></tr><tr><td>3</td><td>5</td><td>Master of Puppets</td><td>8.35</td></tr><tr><td>3</td><td>6</td><td>Battery</td><td>5.13</td></tr><tr><td>4</td><td>7</td><td>Dialectic Chaos</td><td>2.26</td></tr><tr><td>4</td><td>8</td><td>Endgame</td><td>5.57</td></tr><tr><td>5</td><td>9</td><td>Peace Sells</td><td>4.09</td></tr><tr><td>5</td><td>10</td><td>The Conjuring</td><td>5.09</td></tr><tr><td>6</td><td>11</td><td>Madhouse</td><td>4.26</td></tr><tr><td>6</td><td>12</td><td>I am the Law</td><td>6.03</td></tr><tr><td>7</td><td>13</td><td>Reptile</td><td>3.36</td></tr><tr><td>7</td><td>14</td><td>Modern Girl</td><td>4.49</td></tr><tr><td>8</td><td>15</td><td>Riding with the King</td><td>4.23</td></tr><tr><td>8</td><td>16</td><td>Key to the Highway</td><td>3.39</td></tr><tr><td>9</td><td>17</td><td>Sharp Dressed Man</td><td>4.15</td></tr><tr><td>9</td><td>18</td><td>Legs</td><td>4.32</td></tr><tr><td>10</td><td>19</td><td>Eruption</td><td>1.43</td></tr><tr><td>10</td><td>20</td><td>Hot For Teacher</td><td>4.43</td></tr><tr><td>11</td><td>21</td><td>Sweet Home Alabama</td><td>4.45</td></tr><tr><td>11</td><td>22</td><td>Free Bird</td><td>14.23</td></tr><tr><td>12</td><td>23</td><td>Thunderstruck</td><td>4.52</td></tr><tr><td>12</td><td>24</td><td>T.N.T</td><td>3.35</td></tr></table>"
                        ]
                    },
                    "execution_count": 3,
                    "metadata": {},
                    "output_type": "execute_result"
                }
            ],
            "source": [
                "SELECT * from album\n",
                "SELECT * from artist\n",
                "SELECT * from recordlabel\n",
                "SELECT * from song\n"
            ]
        },
        {
            "cell_type": "code",
            "execution_count": 4,
            "metadata": {
                "azdata_cell_guid": "efe47593-6a45-455e-ab96-b332c0a9e9cc",
                "language": "sql"
            },
            "outputs": [
                {
                    "data": {
                        "text/html": [
                            "(8 rows affected)"
                        ]
                    },
                    "metadata": {},
                    "output_type": "display_data"
                },
                {
                    "data": {
                        "text/html": [
                            "Total execution time: 00:00:00.003"
                        ]
                    },
                    "metadata": {},
                    "output_type": "display_data"
                },
                {
                    "data": {
                        "application/vnd.dataresource+json": {
                            "data": [
                                {
                                    "0": "Metallica",
                                    "1": "Blackened"
                                },
                                {
                                    "0": "Megadeth",
                                    "1": "Blackened"
                                },
                                {
                                    "0": "Anthrax",
                                    "1": "Blackened"
                                },
                                {
                                    "0": "Eric Clapton",
                                    "1": "Warner Bros"
                                },
                                {
                                    "0": "ZZ Top",
                                    "1": "Warner Bros"
                                },
                                {
                                    "0": "Van Halen",
                                    "1": "Warner Bros"
                                },
                                {
                                    "0": "Lynyrd Skynyrd",
                                    "1": "Universal"
                                },
                                {
                                    "0": "ACDC",
                                    "1": "Universal"
                                }
                            ],
                            "schema": {
                                "fields": [
                                    {
                                        "name": "artist_name"
                                    },
                                    {
                                        "name": "record_labelname"
                                    }
                                ]
                            }
                        },
                        "text/html": [
                            "<table>\n",
                            "<tr><th>artist_name</th><th>record_labelname</th></tr>\n",
                            "<tr><td>Metallica</td><td>Blackened</td></tr>\n",
                            "<tr><td>Megadeth</td><td>Blackened</td></tr>\n",
                            "<tr><td>Anthrax</td><td>Blackened</td></tr>\n",
                            "<tr><td>Eric Clapton</td><td>Warner Bros</td></tr>\n",
                            "<tr><td>ZZ Top</td><td>Warner Bros</td></tr>\n",
                            "<tr><td>Van Halen</td><td>Warner Bros</td></tr>\n",
                            "<tr><td>Lynyrd Skynyrd</td><td>Universal</td></tr>\n",
                            "<tr><td>ACDC</td><td>Universal</td></tr>\n",
                            "</table>"
                        ]
                    },
                    "execution_count": 4,
                    "metadata": {},
                    "output_type": "execute_result"
                }
            ],
            "source": [
                "--Q1\n",
                "select ar.name as artist_name,rl.name as record_labelname from artist ar \n",
                "INNER JOIN recordlabel rl on ar.labelid =rl.labelid"
            ]
        },
        {
            "cell_type": "code",
            "execution_count": 50,
            "metadata": {
                "azdata_cell_guid": "ccf35c2b-4d5b-4a30-bea0-e5b45d44c779",
                "language": "sql",
                "tags": []
            },
            "outputs": [
                {
                    "data": {
                        "text/html": [
                            "(8 rows affected)"
                        ]
                    },
                    "metadata": {},
                    "output_type": "display_data"
                },
                {
                    "data": {
                        "text/html": [
                            "Total execution time: 00:00:00.010"
                        ]
                    },
                    "metadata": {},
                    "output_type": "display_data"
                },
                {
                    "data": {
                        "application/vnd.dataresource+json": {
                            "data": [
                                {
                                    "0": "Metallica",
                                    "1": "6"
                                },
                                {
                                    "0": "Megadeth",
                                    "1": "4"
                                },
                                {
                                    "0": "Eric Clapton",
                                    "1": "4"
                                },
                                {
                                    "0": "Lynyrd Skynyrd",
                                    "1": "2"
                                },
                                {
                                    "0": "ACDC",
                                    "1": "2"
                                },
                                {
                                    "0": "Anthrax",
                                    "1": "2"
                                },
                                {
                                    "0": "Van Halen",
                                    "1": "2"
                                },
                                {
                                    "0": "ZZ Top",
                                    "1": "2"
                                }
                            ],
                            "schema": {
                                "fields": [
                                    {
                                        "name": "artist_name"
                                    },
                                    {
                                        "name": "numberof_songs"
                                    }
                                ]
                            }
                        },
                        "text/html": [
                            "<table>\n",
                            "<tr><th>artist_name</th><th>numberof_songs</th></tr>\n",
                            "<tr><td>Metallica</td><td>6</td></tr>\n",
                            "<tr><td>Megadeth</td><td>4</td></tr>\n",
                            "<tr><td>Eric Clapton</td><td>4</td></tr>\n",
                            "<tr><td>Lynyrd Skynyrd</td><td>2</td></tr>\n",
                            "<tr><td>ACDC</td><td>2</td></tr>\n",
                            "<tr><td>Anthrax</td><td>2</td></tr>\n",
                            "<tr><td>Van Halen</td><td>2</td></tr>\n",
                            "<tr><td>ZZ Top</td><td>2</td></tr>\n",
                            "</table>"
                        ]
                    },
                    "execution_count": 50,
                    "metadata": {},
                    "output_type": "execute_result"
                }
            ],
            "source": [
                "--Q2\n",
                "SELECT ar.name as artist_name,COUNT(s.SongId) as numberof_songs from artist ar inner join album al on ar.artistid=al.artistid \n",
                "INNER JOIN song s on al.albumid=s.albumid GROUP by ar.name order by numberof_songs DESC"
            ]
        },
        {
            "cell_type": "code",
            "execution_count": 54,
            "metadata": {
                "azdata_cell_guid": "f6e690fa-c845-496c-b87f-6d50aa9ab925",
                "language": "sql"
            },
            "outputs": [
                {
                    "data": {
                        "text/html": [
                            "(9 rows affected)"
                        ]
                    },
                    "metadata": {},
                    "output_type": "display_data"
                },
                {
                    "data": {
                        "text/html": [
                            "Total execution time: 00:00:00.009"
                        ]
                    },
                    "metadata": {},
                    "output_type": "display_data"
                },
                {
                    "data": {
                        "application/vnd.dataresource+json": {
                            "data": [
                                {
                                    "0": "Lynyrd Skynyrd",
                                    "1": "All-Time Greatest Hits"
                                },
                                {
                                    "0": "Megadeth",
                                    "1": "Endgame"
                                },
                                {
                                    "0": "ACDC",
                                    "1": "Greatest Hits"
                                },
                                {
                                    "0": "ZZ Top",
                                    "1": "Greatest Hits"
                                },
                                {
                                    "0": "Van Halen",
                                    "1": "Greatest Hits"
                                },
                                {
                                    "0": "Megadeth",
                                    "1": "Peace Sells"
                                },
                                {
                                    "0": "Eric Clapton",
                                    "1": "Reptile"
                                },
                                {
                                    "0": "Eric Clapton",
                                    "1": "Riding with the King"
                                },
                                {
                                    "0": "Anthrax",
                                    "1": "The Greater of 2 Evils"
                                }
                            ],
                            "schema": {
                                "fields": [
                                    {
                                        "name": "artist"
                                    },
                                    {
                                        "name": "album"
                                    }
                                ]
                            }
                        },
                        "text/html": [
                            "<table>\n",
                            "<tr><th>artist</th><th>album</th></tr>\n",
                            "<tr><td>Lynyrd Skynyrd</td><td>All-Time Greatest Hits</td></tr>\n",
                            "<tr><td>Megadeth</td><td>Endgame</td></tr>\n",
                            "<tr><td>ACDC</td><td>Greatest Hits</td></tr>\n",
                            "<tr><td>ZZ Top</td><td>Greatest Hits</td></tr>\n",
                            "<tr><td>Van Halen</td><td>Greatest Hits</td></tr>\n",
                            "<tr><td>Megadeth</td><td>Peace Sells</td></tr>\n",
                            "<tr><td>Eric Clapton</td><td>Reptile</td></tr>\n",
                            "<tr><td>Eric Clapton</td><td>Riding with the King</td></tr>\n",
                            "<tr><td>Anthrax</td><td>The Greater of 2 Evils</td></tr>\n",
                            "</table>"
                        ]
                    },
                    "execution_count": 54,
                    "metadata": {},
                    "output_type": "execute_result"
                }
            ],
            "source": [
                "--Q3\n",
                "select ar.name as artist, al.name as album from artist ar inner join album al \n",
                "on ar.ArtistId=al.ArtistId \n",
                "where ar.ArtistId!=1 ORDER by album"
            ]
        },
        {
            "cell_type": "code",
            "execution_count": 24,
            "metadata": {
                "azdata_cell_guid": "abb0d3cc-d66d-4d5a-9a1c-490aaffd701e",
                "language": "sql"
            },
            "outputs": [
                {
                    "data": {
                        "text/html": [
                            "(3 rows affected)"
                        ]
                    },
                    "metadata": {},
                    "output_type": "display_data"
                },
                {
                    "data": {
                        "text/html": [
                            "Total execution time: 00:00:00.003"
                        ]
                    },
                    "metadata": {},
                    "output_type": "display_data"
                },
                {
                    "data": {
                        "application/vnd.dataresource+json": {
                            "data": [
                                {
                                    "0": "Metallica",
                                    "1": "...And Justice For All"
                                },
                                {
                                    "0": "Metallica",
                                    "1": "Black Album"
                                },
                                {
                                    "0": "Metallica",
                                    "1": "Master of Puppets"
                                }
                            ],
                            "schema": {
                                "fields": [
                                    {
                                        "name": "name"
                                    },
                                    {
                                        "name": "name"
                                    }
                                ]
                            }
                        },
                        "text/html": [
                            "<table>\n",
                            "<tr><th>name</th><th>name</th></tr>\n",
                            "<tr><td>Metallica</td><td>...And Justice For All</td></tr>\n",
                            "<tr><td>Metallica</td><td>Black Album</td></tr>\n",
                            "<tr><td>Metallica</td><td>Master of Puppets</td></tr>\n",
                            "</table>"
                        ]
                    },
                    "execution_count": 24,
                    "metadata": {},
                    "output_type": "execute_result"
                }
            ],
            "source": [
                "--Q4\n",
                "SELECT ar.name, al.name from Artist ar inner JOIN Album al on ar.ArtistId=al.ArtistId where ar.ArtistId=1"
            ]
        },
        {
            "cell_type": "code",
            "execution_count": 45,
            "metadata": {
                "azdata_cell_guid": "67fd49d9-6899-44e8-b7f6-49e7720ae48d",
                "language": "sql"
            },
            "outputs": [
                {
                    "data": {
                        "text/html": [
                            "(8 rows affected)"
                        ]
                    },
                    "metadata": {},
                    "output_type": "display_data"
                },
                {
                    "data": {
                        "text/html": [
                            "Total execution time: 00:00:00.010"
                        ]
                    },
                    "metadata": {},
                    "output_type": "display_data"
                },
                {
                    "data": {
                        "application/vnd.dataresource+json": {
                            "data": [
                                {
                                    "0": "Metallica",
                                    "1": "37.74000072479248"
                                },
                                {
                                    "0": "Lynyrd Skynyrd",
                                    "1": "18.679999351501465"
                                },
                                {
                                    "0": "Megadeth",
                                    "1": "17.010000467300415"
                                },
                                {
                                    "0": "Eric Clapton",
                                    "1": "15.46999979019165"
                                },
                                {
                                    "0": "Anthrax",
                                    "1": "10.290000438690186"
                                },
                                {
                                    "0": "ZZ Top",
                                    "1": "8.470000267028809"
                                },
                                {
                                    "0": "ACDC",
                                    "1": "7.869999885559082"
                                },
                                {
                                    "0": "Van Halen",
                                    "1": "5.859999775886536"
                                }
                            ],
                            "schema": {
                                "fields": [
                                    {
                                        "name": "name"
                                    },
                                    {
                                        "name": "durationof_all_songs"
                                    }
                                ]
                            }
                        },
                        "text/html": [
                            "<table>\n",
                            "<tr><th>name</th><th>durationof_all_songs</th></tr>\n",
                            "<tr><td>Metallica</td><td>37.74000072479248</td></tr>\n",
                            "<tr><td>Lynyrd Skynyrd</td><td>18.679999351501465</td></tr>\n",
                            "<tr><td>Megadeth</td><td>17.010000467300415</td></tr>\n",
                            "<tr><td>Eric Clapton</td><td>15.46999979019165</td></tr>\n",
                            "<tr><td>Anthrax</td><td>10.290000438690186</td></tr>\n",
                            "<tr><td>ZZ Top</td><td>8.470000267028809</td></tr>\n",
                            "<tr><td>ACDC</td><td>7.869999885559082</td></tr>\n",
                            "<tr><td>Van Halen</td><td>5.859999775886536</td></tr>\n",
                            "</table>"
                        ]
                    },
                    "execution_count": 45,
                    "metadata": {},
                    "output_type": "execute_result"
                }
            ],
            "source": [
                "--Q5\n",
                "select ar.name, sum(s.duration)as durationof_all_songs from Artist ar INNER JOIN album al on ar.ArtistId=al.ArtistId \n",
                "INNER JOIN song s on al.AlbumId=s.AlbumId GROUP by ar.Name order by durationof_all_songs desc"
            ]
        }
    ],
    "metadata": {
        "kernelspec": {
            "display_name": "SQL",
            "language": "sql",
            "name": "SQL"
        },
        "language_info": {
            "name": "sql",
            "version": ""
        }
    },
    "nbformat": 4,
    "nbformat_minor": 2
}
