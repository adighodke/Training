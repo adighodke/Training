{
    "metadata": {
        "kernelspec": {
            "name": "SQL",
            "display_name": "SQL",
            "language": "sql"
        },
        "language_info": {
            "name": "sql",
            "version": ""
        }
    },
    "nbformat_minor": 2,
    "nbformat": 4,
    "cells": [
        {
            "cell_type": "code",
            "source": [
                "\r\n",
                "\r\n",
                "CREATE table Exercise1\r\n",
                " (  \r\n",
                "   EmpId int,  \r\n",
                "   Name varchar(100),  \r\n",
                "   Department varchar(20),\r\n",
                "   HireDate date ,\r\n",
                "   Training int   \r\n",
                ")\r\n",
                "\r\n",
                " insert into exercise1(EmpId,Name, Department, HireDate, Training) VALUES(1234,'J. Jones','Sales','06/18/1992', 24),(2345,'S.Smith', 'Production','02/12/1998',40),\r\n",
                " (3456,'A. Adamas','Sales','11/18/1998',60),(4567,'B. Bates','Advertising','03/10/1985',16),(5678,'D. Davis','Production','06/26/1999',56),(6789,'c. cole','Shipping','05/18/1991',32),\r\n",
                " (7890,'E. Ellis','Sales','12/15/1998',80),(8901,'F. Files','Advertising','10/17/1990',24),(9012,'G. Gates','Advertising','03/15/1999',48)\r\n",
                "\r\n",
                "\r\n",
                "\r\n",
                ""
            ],
            "metadata": {
                "azdata_cell_guid": "5e259fa9-e570-4f93-94a6-1d3b2113eb29",
                "language": "sql",
                "tags": []
            },
            "outputs": [
                {
                    "output_type": "display_data",
                    "data": {
                        "text/html": "(9 rows affected)"
                    },
                    "metadata": {}
                },
                {
                    "output_type": "display_data",
                    "data": {
                        "text/html": "Total execution time: 00:00:00.005"
                    },
                    "metadata": {}
                }
            ],
            "execution_count": 16
        },
        {
            "cell_type": "code",
            "source": [
                "SELECT * FROM exercise1\r\n",
                ""
            ],
            "metadata": {
                "language": "sql",
                "azdata_cell_guid": "e46521ae-483c-4f53-92c8-75194cbded69",
                "tags": []
            },
            "outputs": [
                {
                    "output_type": "display_data",
                    "data": {
                        "text/html": "(9 rows affected)"
                    },
                    "metadata": {}
                },
                {
                    "output_type": "display_data",
                    "data": {
                        "text/html": "Total execution time: 00:00:00.004"
                    },
                    "metadata": {}
                },
                {
                    "output_type": "execute_result",
                    "metadata": {},
                    "execution_count": 18,
                    "data": {
                        "application/vnd.dataresource+json": {
                            "schema": {
                                "fields": [
                                    {
                                        "name": "EmpId"
                                    },
                                    {
                                        "name": "Name"
                                    },
                                    {
                                        "name": "Department"
                                    },
                                    {
                                        "name": "HireDate"
                                    },
                                    {
                                        "name": "Training"
                                    }
                                ]
                            },
                            "data": [
                                {
                                    "0": "1234",
                                    "1": "J. Jones",
                                    "2": "Sales",
                                    "3": "1992-06-18",
                                    "4": "24"
                                },
                                {
                                    "0": "2345",
                                    "1": "S.Smith",
                                    "2": "Production",
                                    "3": "1998-02-12",
                                    "4": "40"
                                },
                                {
                                    "0": "3456",
                                    "1": "A. Adamas",
                                    "2": "Sales",
                                    "3": "1998-11-18",
                                    "4": "60"
                                },
                                {
                                    "0": "4567",
                                    "1": "B. Bates",
                                    "2": "Advertising",
                                    "3": "1985-03-10",
                                    "4": "16"
                                },
                                {
                                    "0": "5678",
                                    "1": "D. Davis",
                                    "2": "Production",
                                    "3": "1999-06-26",
                                    "4": "56"
                                },
                                {
                                    "0": "6789",
                                    "1": "c. cole",
                                    "2": "Shipping",
                                    "3": "1991-05-18",
                                    "4": "32"
                                },
                                {
                                    "0": "7890",
                                    "1": "E. Ellis",
                                    "2": "Sales",
                                    "3": "1998-12-15",
                                    "4": "80"
                                },
                                {
                                    "0": "8901",
                                    "1": "F. Files",
                                    "2": "Advertising",
                                    "3": "1990-10-17",
                                    "4": "24"
                                },
                                {
                                    "0": "9012",
                                    "1": "G. Gates",
                                    "2": "Advertising",
                                    "3": "1999-03-15",
                                    "4": "48"
                                }
                            ]
                        },
                        "text/html": [
                            "<table>",
                            "<tr><th>EmpId</th><th>Name</th><th>Department</th><th>HireDate</th><th>Training</th></tr>",
                            "<tr><td>1234</td><td>J. Jones</td><td>Sales</td><td>1992-06-18</td><td>24</td></tr>",
                            "<tr><td>2345</td><td>S.Smith</td><td>Production</td><td>1998-02-12</td><td>40</td></tr>",
                            "<tr><td>3456</td><td>A. Adamas</td><td>Sales</td><td>1998-11-18</td><td>60</td></tr>",
                            "<tr><td>4567</td><td>B. Bates</td><td>Advertising</td><td>1985-03-10</td><td>16</td></tr>",
                            "<tr><td>5678</td><td>D. Davis</td><td>Production</td><td>1999-06-26</td><td>56</td></tr>",
                            "<tr><td>6789</td><td>c. cole</td><td>Shipping</td><td>1991-05-18</td><td>32</td></tr>",
                            "<tr><td>7890</td><td>E. Ellis</td><td>Sales</td><td>1998-12-15</td><td>80</td></tr>",
                            "<tr><td>8901</td><td>F. Files</td><td>Advertising</td><td>1990-10-17</td><td>24</td></tr>",
                            "<tr><td>9012</td><td>G. Gates</td><td>Advertising</td><td>1999-03-15</td><td>48</td></tr>",
                            "</table>"
                        ]
                    }
                }
            ],
            "execution_count": 18
        },
        {
            "cell_type": "code",
            "source": [
                "--Q  a.\r\n",
                "select distinct department from exercise1"
            ],
            "metadata": {
                "language": "sql",
                "azdata_cell_guid": "8cfbbd28-35ba-4f41-a5a2-49eaae054198",
                "tags": []
            },
            "outputs": [
                {
                    "output_type": "display_data",
                    "data": {
                        "text/html": "(4 rows affected)"
                    },
                    "metadata": {}
                },
                {
                    "output_type": "display_data",
                    "data": {
                        "text/html": "Total execution time: 00:00:00.006"
                    },
                    "metadata": {}
                },
                {
                    "output_type": "execute_result",
                    "metadata": {},
                    "execution_count": 19,
                    "data": {
                        "application/vnd.dataresource+json": {
                            "schema": {
                                "fields": [
                                    {
                                        "name": "department"
                                    }
                                ]
                            },
                            "data": [
                                {
                                    "0": "Advertising"
                                },
                                {
                                    "0": "Production"
                                },
                                {
                                    "0": "Sales"
                                },
                                {
                                    "0": "Shipping"
                                }
                            ]
                        },
                        "text/html": [
                            "<table>",
                            "<tr><th>department</th></tr>",
                            "<tr><td>Advertising</td></tr>",
                            "<tr><td>Production</td></tr>",
                            "<tr><td>Sales</td></tr>",
                            "<tr><td>Shipping</td></tr>",
                            "</table>"
                        ]
                    }
                }
            ],
            "execution_count": 19
        },
        {
            "cell_type": "code",
            "source": [
                "--Q  b.\r\n",
                "ALTER TABLE exercise1\r\n",
                "ADD location VARCHAR(20)\r\n",
                "UPDATE exercise1 SET  location= 'delhi' WHERE EmpId = 1234;\r\n",
                "UPDATE exercise1 SET  location= 'mumbai' WHERE EmpId = 2345;\r\n",
                "UPDATE exercise1 SET  location= 'bangaluru' WHERE EmpId = 3456;\r\n",
                "UPDATE exercise1 SET  location= 'chennai' WHERE EmpId = 4567;\r\n",
                "UPDATE exercise1 SET  location= 'kolkata' WHERE EmpId = 5678;\r\n",
                "UPDATE exercise1 SET  location= 'pune' WHERE EmpId = 6789;\r\n",
                "UPDATE exercise1 SET  location= 'hyderabad' WHERE EmpId = 7890;\r\n",
                "UPDATE exercise1 SET  location= 'nagpur' WHERE EmpId = 8901;\r\n",
                "UPDATE exercise1 SET  location= 'kochi' WHERE EmpId = 9012;\r\n",
                ""
            ],
            "metadata": {
                "language": "sql",
                "azdata_cell_guid": "fee1f5d9-93ce-46cc-b5ed-a00d0261983e",
                "tags": []
            },
            "outputs": [
                {
                    "output_type": "error",
                    "evalue": "Msg 207, Level 16, State 1, Line 4\r\nInvalid column name 'location'.",
                    "ename": "",
                    "traceback": []
                },
                {
                    "output_type": "display_data",
                    "data": {
                        "text/html": "Total execution time: 00:00:00.001"
                    },
                    "metadata": {}
                }
            ],
            "execution_count": 21
        },
        {
            "cell_type": "code",
            "source": [
                "--Q c\r\n",
                "EXEC sp_rename 'exercise1.empid', 'EmployeeID';"
            ],
            "metadata": {
                "language": "sql",
                "azdata_cell_guid": "330c16c7-989d-4111-80ad-4d3fce3bec5d",
                "tags": []
            },
            "outputs": [
                {
                    "output_type": "error",
                    "evalue": "Msg 15225, Level 11, State 1, Procedure sp_rename, Line 436\r\nNo item by the name of 'exercise1.empid' could be found in the current database 'sql_Training1', given that @itemtype was input as '(null)'.",
                    "ename": "",
                    "traceback": []
                },
                {
                    "output_type": "display_data",
                    "data": {
                        "text/html": "Total execution time: 00:00:00.002"
                    },
                    "metadata": {}
                }
            ],
            "execution_count": 25
        },
        {
            "cell_type": "code",
            "source": [
                "--Q d\r\n",
                "select * from exercise1 WHERE department in ('sales','shipping')"
            ],
            "metadata": {
                "language": "sql",
                "azdata_cell_guid": "31990da5-012b-4044-9220-7c9c6778b4ac"
            },
            "outputs": [
                {
                    "output_type": "display_data",
                    "data": {
                        "text/html": "(4 rows affected)"
                    },
                    "metadata": {}
                },
                {
                    "output_type": "display_data",
                    "data": {
                        "text/html": "Total execution time: 00:00:00.003"
                    },
                    "metadata": {}
                },
                {
                    "output_type": "execute_result",
                    "metadata": {},
                    "execution_count": 26,
                    "data": {
                        "application/vnd.dataresource+json": {
                            "schema": {
                                "fields": [
                                    {
                                        "name": "EmployeeID"
                                    },
                                    {
                                        "name": "Name"
                                    },
                                    {
                                        "name": "Department"
                                    },
                                    {
                                        "name": "HireDate"
                                    },
                                    {
                                        "name": "Training"
                                    }
                                ]
                            },
                            "data": [
                                {
                                    "0": "1234",
                                    "1": "J. Jones",
                                    "2": "Sales",
                                    "3": "1992-06-18",
                                    "4": "24"
                                },
                                {
                                    "0": "3456",
                                    "1": "A. Adamas",
                                    "2": "Sales",
                                    "3": "1998-11-18",
                                    "4": "60"
                                },
                                {
                                    "0": "6789",
                                    "1": "c. cole",
                                    "2": "Shipping",
                                    "3": "1991-05-18",
                                    "4": "32"
                                },
                                {
                                    "0": "7890",
                                    "1": "E. Ellis",
                                    "2": "Sales",
                                    "3": "1998-12-15",
                                    "4": "80"
                                }
                            ]
                        },
                        "text/html": [
                            "<table>",
                            "<tr><th>EmployeeID</th><th>Name</th><th>Department</th><th>HireDate</th><th>Training</th></tr>",
                            "<tr><td>1234</td><td>J. Jones</td><td>Sales</td><td>1992-06-18</td><td>24</td></tr>",
                            "<tr><td>3456</td><td>A. Adamas</td><td>Sales</td><td>1998-11-18</td><td>60</td></tr>",
                            "<tr><td>6789</td><td>c. cole</td><td>Shipping</td><td>1991-05-18</td><td>32</td></tr>",
                            "<tr><td>7890</td><td>E. Ellis</td><td>Sales</td><td>1998-12-15</td><td>80</td></tr>",
                            "</table>"
                        ]
                    }
                }
            ],
            "execution_count": 26
        },
        {
            "cell_type": "code",
            "source": [
                "--Q e\r\n",
                "select * from Exercise1 where HireDate  between '1992-01-01' and '1997-12-31'\r\n",
                ""
            ],
            "metadata": {
                "language": "sql",
                "azdata_cell_guid": "a04fc847-05f9-436e-962e-64144a0b3cd6",
                "tags": []
            },
            "outputs": [
                {
                    "output_type": "display_data",
                    "data": {
                        "text/html": "(1 row affected)"
                    },
                    "metadata": {}
                },
                {
                    "output_type": "display_data",
                    "data": {
                        "text/html": "Total execution time: 00:00:00.005"
                    },
                    "metadata": {}
                },
                {
                    "output_type": "execute_result",
                    "metadata": {},
                    "execution_count": 27,
                    "data": {
                        "application/vnd.dataresource+json": {
                            "schema": {
                                "fields": [
                                    {
                                        "name": "EmployeeID"
                                    },
                                    {
                                        "name": "Name"
                                    },
                                    {
                                        "name": "Department"
                                    },
                                    {
                                        "name": "HireDate"
                                    },
                                    {
                                        "name": "Training"
                                    }
                                ]
                            },
                            "data": [
                                {
                                    "0": "1234",
                                    "1": "J. Jones",
                                    "2": "Sales",
                                    "3": "1992-06-18",
                                    "4": "24"
                                }
                            ]
                        },
                        "text/html": [
                            "<table>",
                            "<tr><th>EmployeeID</th><th>Name</th><th>Department</th><th>HireDate</th><th>Training</th></tr>",
                            "<tr><td>1234</td><td>J. Jones</td><td>Sales</td><td>1992-06-18</td><td>24</td></tr>",
                            "</table>"
                        ]
                    }
                }
            ],
            "execution_count": 27
        },
        {
            "cell_type": "code",
            "source": [
                "--Q f\r\n",
                "Select Top 0 * into duplicate from Exercise1\r\n",
                "\r\n",
                "\r\n",
                ""
            ],
            "metadata": {
                "language": "sql",
                "azdata_cell_guid": "fdbd9d8d-f162-4c1f-9212-2f8a319be9a3",
                "tags": []
            },
            "outputs": [
                {
                    "output_type": "error",
                    "evalue": "Msg 2714, Level 16, State 6, Line 2\r\nThere is already an object named 'duplicate' in the database.",
                    "ename": "",
                    "traceback": []
                },
                {
                    "output_type": "display_data",
                    "data": {
                        "text/html": "Total execution time: 00:00:00.009"
                    },
                    "metadata": {}
                }
            ],
            "execution_count": 28
        },
        {
            "cell_type": "code",
            "source": [
                "--Q g\r\n",
                "select * from Exercise1 where Training>40"
            ],
            "metadata": {
                "language": "sql",
                "azdata_cell_guid": "b812b65c-eaa5-4397-af8c-38889ab82d68",
                "tags": []
            },
            "outputs": [
                {
                    "output_type": "display_data",
                    "data": {
                        "text/html": "(4 rows affected)"
                    },
                    "metadata": {}
                },
                {
                    "output_type": "display_data",
                    "data": {
                        "text/html": "Total execution time: 00:00:00.002"
                    },
                    "metadata": {}
                },
                {
                    "output_type": "execute_result",
                    "execution_count": 19,
                    "data": {
                        "application/vnd.dataresource+json": {
                            "schema": {
                                "fields": [
                                    {
                                        "name": "EmployeeID"
                                    },
                                    {
                                        "name": "Name"
                                    },
                                    {
                                        "name": "Department"
                                    },
                                    {
                                        "name": "HireDate"
                                    },
                                    {
                                        "name": "Training"
                                    },
                                    {
                                        "name": "location"
                                    }
                                ]
                            },
                            "data": [
                                {
                                    "0": "3456",
                                    "1": "A. Adamas",
                                    "2": "Sales",
                                    "3": "1998-11-18",
                                    "4": "60",
                                    "5": "bangaluru"
                                },
                                {
                                    "0": "5678",
                                    "1": "D. Davis",
                                    "2": "Production",
                                    "3": "1999-06-26",
                                    "4": "56",
                                    "5": "kolkata"
                                },
                                {
                                    "0": "7890",
                                    "1": "E. Ellis",
                                    "2": "Sales",
                                    "3": "1998-12-15",
                                    "4": "80",
                                    "5": "hyderabad"
                                },
                                {
                                    "0": "9012",
                                    "1": "G. Gates",
                                    "2": "Advertising",
                                    "3": "1999-03-15",
                                    "4": "48",
                                    "5": "kochi"
                                }
                            ]
                        },
                        "text/html": "<table><tr><th>EmployeeID</th><th>Name</th><th>Department</th><th>HireDate</th><th>Training</th><th>location</th></tr><tr><td>3456</td><td>A. Adamas</td><td>Sales</td><td>1998-11-18</td><td>60</td><td>bangaluru</td></tr><tr><td>5678</td><td>D. Davis</td><td>Production</td><td>1999-06-26</td><td>56</td><td>kolkata</td></tr><tr><td>7890</td><td>E. Ellis</td><td>Sales</td><td>1998-12-15</td><td>80</td><td>hyderabad</td></tr><tr><td>9012</td><td>G. Gates</td><td>Advertising</td><td>1999-03-15</td><td>48</td><td>kochi</td></tr></table>"
                    },
                    "metadata": {}
                }
            ],
            "execution_count": 19
        },
        {
            "cell_type": "code",
            "source": [
                "--Q h\r\n",
                "Select * into clone from Exercise1\r\n",
                "\r\n",
                "select * from clone"
            ],
            "metadata": {
                "language": "sql",
                "azdata_cell_guid": "5b12d1d4-0c0e-4a44-9fd8-918e50e0b59d"
            },
            "outputs": [
                {
                    "output_type": "display_data",
                    "data": {
                        "text/html": "(9 rows affected)"
                    },
                    "metadata": {}
                },
                {
                    "output_type": "display_data",
                    "data": {
                        "text/html": "Total execution time: 00:00:00.003"
                    },
                    "metadata": {}
                },
                {
                    "output_type": "execute_result",
                    "execution_count": 24,
                    "data": {
                        "application/vnd.dataresource+json": {
                            "schema": {
                                "fields": [
                                    {
                                        "name": "EmployeeID"
                                    },
                                    {
                                        "name": "Name"
                                    },
                                    {
                                        "name": "Department"
                                    },
                                    {
                                        "name": "HireDate"
                                    },
                                    {
                                        "name": "Training"
                                    },
                                    {
                                        "name": "location"
                                    }
                                ]
                            },
                            "data": [
                                {
                                    "0": "1234",
                                    "1": "J. Jones",
                                    "2": "Sales",
                                    "3": "1992-06-18",
                                    "4": "24",
                                    "5": "delhi"
                                },
                                {
                                    "0": "2345",
                                    "1": "S.Smith",
                                    "2": "Production",
                                    "3": "1998-02-12",
                                    "4": "40",
                                    "5": "mumbai"
                                },
                                {
                                    "0": "3456",
                                    "1": "A. Adamas",
                                    "2": "Sales",
                                    "3": "1998-11-18",
                                    "4": "60",
                                    "5": "bangaluru"
                                },
                                {
                                    "0": "4567",
                                    "1": "B. Bates",
                                    "2": "Advertising",
                                    "3": "1985-03-10",
                                    "4": "16",
                                    "5": "chennai"
                                },
                                {
                                    "0": "5678",
                                    "1": "D. Davis",
                                    "2": "Production",
                                    "3": "1999-06-26",
                                    "4": "56",
                                    "5": "kolkata"
                                },
                                {
                                    "0": "6789",
                                    "1": "c. cole",
                                    "2": "Shipping",
                                    "3": "1991-05-18",
                                    "4": "32",
                                    "5": "pune"
                                },
                                {
                                    "0": "7890",
                                    "1": "E. Ellis",
                                    "2": "Sales",
                                    "3": "1998-12-15",
                                    "4": "80",
                                    "5": "hyderabad"
                                },
                                {
                                    "0": "8901",
                                    "1": "F. Files",
                                    "2": "Advertising",
                                    "3": "1990-10-17",
                                    "4": "24",
                                    "5": "nagpur"
                                },
                                {
                                    "0": "9012",
                                    "1": "G. Gates",
                                    "2": "Advertising",
                                    "3": "1999-03-15",
                                    "4": "48",
                                    "5": "kochi"
                                }
                            ]
                        },
                        "text/html": "<table><tr><th>EmployeeID</th><th>Name</th><th>Department</th><th>HireDate</th><th>Training</th><th>location</th></tr><tr><td>1234</td><td>J. Jones</td><td>Sales</td><td>1992-06-18</td><td>24</td><td>delhi</td></tr><tr><td>2345</td><td>S.Smith</td><td>Production</td><td>1998-02-12</td><td>40</td><td>mumbai</td></tr><tr><td>3456</td><td>A. Adamas</td><td>Sales</td><td>1998-11-18</td><td>60</td><td>bangaluru</td></tr><tr><td>4567</td><td>B. Bates</td><td>Advertising</td><td>1985-03-10</td><td>16</td><td>chennai</td></tr><tr><td>5678</td><td>D. Davis</td><td>Production</td><td>1999-06-26</td><td>56</td><td>kolkata</td></tr><tr><td>6789</td><td>c. cole</td><td>Shipping</td><td>1991-05-18</td><td>32</td><td>pune</td></tr><tr><td>7890</td><td>E. Ellis</td><td>Sales</td><td>1998-12-15</td><td>80</td><td>hyderabad</td></tr><tr><td>8901</td><td>F. Files</td><td>Advertising</td><td>1990-10-17</td><td>24</td><td>nagpur</td></tr><tr><td>9012</td><td>G. Gates</td><td>Advertising</td><td>1999-03-15</td><td>48</td><td>kochi</td></tr></table>"
                    },
                    "metadata": {}
                }
            ],
            "execution_count": 24
        },
        {
            "cell_type": "code",
            "source": [
                "--Q i\r\n",
                "DELETE from Exercise1 WHERE Training>60\r\n",
                "\r\n",
                "select * from Exercise1"
            ],
            "metadata": {
                "language": "sql",
                "azdata_cell_guid": "5317dfb9-0421-4f61-8f7c-47ca9232f547"
            },
            "outputs": [
                {
                    "output_type": "display_data",
                    "data": {
                        "text/html": "(1 row affected)"
                    },
                    "metadata": {}
                },
                {
                    "output_type": "display_data",
                    "data": {
                        "text/html": "(9 rows affected)"
                    },
                    "metadata": {}
                },
                {
                    "output_type": "display_data",
                    "data": {
                        "text/html": "Total execution time: 00:00:00.009"
                    },
                    "metadata": {}
                },
                {
                    "output_type": "execute_result",
                    "metadata": {},
                    "execution_count": 32,
                    "data": {
                        "application/vnd.dataresource+json": {
                            "schema": {
                                "fields": [
                                    {
                                        "name": "EmployeeID"
                                    },
                                    {
                                        "name": "Name"
                                    },
                                    {
                                        "name": "Department"
                                    },
                                    {
                                        "name": "Training"
                                    }
                                ]
                            },
                            "data": [
                                {
                                    "0": "1234",
                                    "1": "J. Jones",
                                    "2": "Sales",
                                    "3": "24"
                                },
                                {
                                    "0": "2345",
                                    "1": "S.Smith",
                                    "2": "Production",
                                    "3": "40"
                                },
                                {
                                    "0": "3456",
                                    "1": "A. Adamas",
                                    "2": "Sales",
                                    "3": "60"
                                },
                                {
                                    "0": "4567",
                                    "1": "B. Bates",
                                    "2": "Advertising",
                                    "3": "16"
                                },
                                {
                                    "0": "5678",
                                    "1": "D. Davis",
                                    "2": "Production",
                                    "3": "56"
                                },
                                {
                                    "0": "6789",
                                    "1": "c. cole",
                                    "2": "Shipping",
                                    "3": "32"
                                },
                                {
                                    "0": "8901",
                                    "1": "F. Files",
                                    "2": "Advertising",
                                    "3": "24"
                                },
                                {
                                    "0": "9012",
                                    "1": "G. Gates",
                                    "2": "Advertising",
                                    "3": "48"
                                },
                                {
                                    "0": "NULL",
                                    "1": "thor",
                                    "2": "energy",
                                    "3": "55"
                                }
                            ]
                        },
                        "text/html": [
                            "<table>",
                            "<tr><th>EmployeeID</th><th>Name</th><th>Department</th><th>Training</th></tr>",
                            "<tr><td>1234</td><td>J. Jones</td><td>Sales</td><td>24</td></tr>",
                            "<tr><td>2345</td><td>S.Smith</td><td>Production</td><td>40</td></tr>",
                            "<tr><td>3456</td><td>A. Adamas</td><td>Sales</td><td>60</td></tr>",
                            "<tr><td>4567</td><td>B. Bates</td><td>Advertising</td><td>16</td></tr>",
                            "<tr><td>5678</td><td>D. Davis</td><td>Production</td><td>56</td></tr>",
                            "<tr><td>6789</td><td>c. cole</td><td>Shipping</td><td>32</td></tr>",
                            "<tr><td>8901</td><td>F. Files</td><td>Advertising</td><td>24</td></tr>",
                            "<tr><td>9012</td><td>G. Gates</td><td>Advertising</td><td>48</td></tr>",
                            "<tr><td>NULL</td><td>thor</td><td>energy</td><td>55</td></tr>",
                            "</table>"
                        ]
                    }
                }
            ],
            "execution_count": 32
        },
        {
            "cell_type": "code",
            "source": [
                "--Q j\r\n",
                "ALTER TABLE exercise1 drop COLUMN HireDate\r\n",
                "select * from Exercise1"
            ],
            "metadata": {
                "language": "sql",
                "azdata_cell_guid": "87f427c2-f33f-4af3-9fb7-cc8cd57869ad"
            },
            "outputs": [
                {
                    "output_type": "display_data",
                    "data": {
                        "text/html": "(10 rows affected)"
                    },
                    "metadata": {}
                },
                {
                    "output_type": "display_data",
                    "data": {
                        "text/html": "Total execution time: 00:00:00.007"
                    },
                    "metadata": {}
                },
                {
                    "output_type": "execute_result",
                    "metadata": {},
                    "execution_count": 31,
                    "data": {
                        "application/vnd.dataresource+json": {
                            "schema": {
                                "fields": [
                                    {
                                        "name": "EmployeeID"
                                    },
                                    {
                                        "name": "Name"
                                    },
                                    {
                                        "name": "Department"
                                    },
                                    {
                                        "name": "Training"
                                    }
                                ]
                            },
                            "data": [
                                {
                                    "0": "1234",
                                    "1": "J. Jones",
                                    "2": "Sales",
                                    "3": "24"
                                },
                                {
                                    "0": "2345",
                                    "1": "S.Smith",
                                    "2": "Production",
                                    "3": "40"
                                },
                                {
                                    "0": "3456",
                                    "1": "A. Adamas",
                                    "2": "Sales",
                                    "3": "60"
                                },
                                {
                                    "0": "4567",
                                    "1": "B. Bates",
                                    "2": "Advertising",
                                    "3": "16"
                                },
                                {
                                    "0": "5678",
                                    "1": "D. Davis",
                                    "2": "Production",
                                    "3": "56"
                                },
                                {
                                    "0": "6789",
                                    "1": "c. cole",
                                    "2": "Shipping",
                                    "3": "32"
                                },
                                {
                                    "0": "7890",
                                    "1": "E. Ellis",
                                    "2": "Sales",
                                    "3": "80"
                                },
                                {
                                    "0": "8901",
                                    "1": "F. Files",
                                    "2": "Advertising",
                                    "3": "24"
                                },
                                {
                                    "0": "9012",
                                    "1": "G. Gates",
                                    "2": "Advertising",
                                    "3": "48"
                                },
                                {
                                    "0": "NULL",
                                    "1": "thor",
                                    "2": "energy",
                                    "3": "55"
                                }
                            ]
                        },
                        "text/html": [
                            "<table>",
                            "<tr><th>EmployeeID</th><th>Name</th><th>Department</th><th>Training</th></tr>",
                            "<tr><td>1234</td><td>J. Jones</td><td>Sales</td><td>24</td></tr>",
                            "<tr><td>2345</td><td>S.Smith</td><td>Production</td><td>40</td></tr>",
                            "<tr><td>3456</td><td>A. Adamas</td><td>Sales</td><td>60</td></tr>",
                            "<tr><td>4567</td><td>B. Bates</td><td>Advertising</td><td>16</td></tr>",
                            "<tr><td>5678</td><td>D. Davis</td><td>Production</td><td>56</td></tr>",
                            "<tr><td>6789</td><td>c. cole</td><td>Shipping</td><td>32</td></tr>",
                            "<tr><td>7890</td><td>E. Ellis</td><td>Sales</td><td>80</td></tr>",
                            "<tr><td>8901</td><td>F. Files</td><td>Advertising</td><td>24</td></tr>",
                            "<tr><td>9012</td><td>G. Gates</td><td>Advertising</td><td>48</td></tr>",
                            "<tr><td>NULL</td><td>thor</td><td>energy</td><td>55</td></tr>",
                            "</table>"
                        ]
                    }
                }
            ],
            "execution_count": 31
        },
        {
            "cell_type": "code",
            "source": [
                "--Q k\r\n",
                "ALTER TABLE exercise1  ALTER COLUMN department VARCHAR(34)"
            ],
            "metadata": {
                "language": "sql",
                "azdata_cell_guid": "f91212f5-d7ca-4932-9dfd-55d4f483cc2c",
                "tags": []
            },
            "outputs": [
                {
                    "output_type": "display_data",
                    "data": {
                        "text/html": "Commands completed successfully."
                    },
                    "metadata": {}
                },
                {
                    "output_type": "display_data",
                    "data": {
                        "text/html": "Total execution time: 00:00:00.007"
                    },
                    "metadata": {}
                }
            ],
            "execution_count": 30
        },
        {
            "cell_type": "code",
            "source": [
                "--Q l\r\n",
                "INSERT into Exercise1(Name,Department,Training) VALUES('thor','energy',55)\r\n",
                "select * from Exercise1"
            ],
            "metadata": {
                "language": "sql",
                "azdata_cell_guid": "e23b8952-3399-437b-93d5-79c723352ac2"
            },
            "outputs": [
                {
                    "output_type": "display_data",
                    "data": {
                        "text/html": "(1 row affected)"
                    },
                    "metadata": {}
                },
                {
                    "output_type": "display_data",
                    "data": {
                        "text/html": "(10 rows affected)"
                    },
                    "metadata": {}
                },
                {
                    "output_type": "display_data",
                    "data": {
                        "text/html": "Total execution time: 00:00:00.007"
                    },
                    "metadata": {}
                },
                {
                    "output_type": "execute_result",
                    "metadata": {},
                    "execution_count": 29,
                    "data": {
                        "application/vnd.dataresource+json": {
                            "schema": {
                                "fields": [
                                    {
                                        "name": "EmployeeID"
                                    },
                                    {
                                        "name": "Name"
                                    },
                                    {
                                        "name": "Department"
                                    },
                                    {
                                        "name": "HireDate"
                                    },
                                    {
                                        "name": "Training"
                                    }
                                ]
                            },
                            "data": [
                                {
                                    "0": "1234",
                                    "1": "J. Jones",
                                    "2": "Sales",
                                    "3": "1992-06-18",
                                    "4": "24"
                                },
                                {
                                    "0": "2345",
                                    "1": "S.Smith",
                                    "2": "Production",
                                    "3": "1998-02-12",
                                    "4": "40"
                                },
                                {
                                    "0": "3456",
                                    "1": "A. Adamas",
                                    "2": "Sales",
                                    "3": "1998-11-18",
                                    "4": "60"
                                },
                                {
                                    "0": "4567",
                                    "1": "B. Bates",
                                    "2": "Advertising",
                                    "3": "1985-03-10",
                                    "4": "16"
                                },
                                {
                                    "0": "5678",
                                    "1": "D. Davis",
                                    "2": "Production",
                                    "3": "1999-06-26",
                                    "4": "56"
                                },
                                {
                                    "0": "6789",
                                    "1": "c. cole",
                                    "2": "Shipping",
                                    "3": "1991-05-18",
                                    "4": "32"
                                },
                                {
                                    "0": "7890",
                                    "1": "E. Ellis",
                                    "2": "Sales",
                                    "3": "1998-12-15",
                                    "4": "80"
                                },
                                {
                                    "0": "8901",
                                    "1": "F. Files",
                                    "2": "Advertising",
                                    "3": "1990-10-17",
                                    "4": "24"
                                },
                                {
                                    "0": "9012",
                                    "1": "G. Gates",
                                    "2": "Advertising",
                                    "3": "1999-03-15",
                                    "4": "48"
                                },
                                {
                                    "0": "NULL",
                                    "1": "thor",
                                    "2": "energy",
                                    "3": "NULL",
                                    "4": "55"
                                }
                            ]
                        },
                        "text/html": [
                            "<table>",
                            "<tr><th>EmployeeID</th><th>Name</th><th>Department</th><th>HireDate</th><th>Training</th></tr>",
                            "<tr><td>1234</td><td>J. Jones</td><td>Sales</td><td>1992-06-18</td><td>24</td></tr>",
                            "<tr><td>2345</td><td>S.Smith</td><td>Production</td><td>1998-02-12</td><td>40</td></tr>",
                            "<tr><td>3456</td><td>A. Adamas</td><td>Sales</td><td>1998-11-18</td><td>60</td></tr>",
                            "<tr><td>4567</td><td>B. Bates</td><td>Advertising</td><td>1985-03-10</td><td>16</td></tr>",
                            "<tr><td>5678</td><td>D. Davis</td><td>Production</td><td>1999-06-26</td><td>56</td></tr>",
                            "<tr><td>6789</td><td>c. cole</td><td>Shipping</td><td>1991-05-18</td><td>32</td></tr>",
                            "<tr><td>7890</td><td>E. Ellis</td><td>Sales</td><td>1998-12-15</td><td>80</td></tr>",
                            "<tr><td>8901</td><td>F. Files</td><td>Advertising</td><td>1990-10-17</td><td>24</td></tr>",
                            "<tr><td>9012</td><td>G. Gates</td><td>Advertising</td><td>1999-03-15</td><td>48</td></tr>",
                            "<tr><td>NULL</td><td>thor</td><td>energy</td><td>NULL</td><td>55</td></tr>",
                            "</table>"
                        ]
                    }
                }
            ],
            "execution_count": 29
        }
    ]
}