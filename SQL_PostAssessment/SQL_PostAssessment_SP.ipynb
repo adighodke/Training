{
    "metadata": {
        "kernelspec": {
            "name": "SQL",
            "display_name": "SQL",
            "language": "sql"
        },
        "language_info": {
            "name": "sql",
            "version": ""
        }
    },
    "nbformat_minor": 2,
    "nbformat": 4,
    "cells": [
        {
            "cell_type": "code",
            "source": [
                "--Drop procedure SPIncreaseSalaryOfEmp1\r\n",
                "\r\n",
                "create procedure SPIncreaseSalaryOfEmp1\r\n",
                "(@IncreaseSalary int)\r\n",
                "as\r\n",
                "Begin\r\n",
                "DECLARE @EmpCount int,@Manager_id int\r\n",
                "SELECT @EmpCount= count(e.employee_id),@Manager_id=e.manager_id from employees e join employees m on e.manager_id=m.employee_id where e.manager_id>0 GROUP by e.manager_id,m.salary\r\n",
                "if(@EmpCount>1)\r\n",
                "Begin\r\n",
                "if(@IncreaseSalary>0)\r\n",
                "begin\r\n",
                "DECLARE @sal int\r\n",
                "update employees  set Salary=(Salary+@IncreaseSalary) where Manager_id=@Manager_id\r\n",
                "select @sal=salary from employees\r\n",
                "RETURN @sal\r\n",
                "end\r\n",
                "else\r\n",
                "print 'salary should be greater than 0'\r\n",
                "End\r\n",
                "else\r\n",
                "print 'manager count not greater than 0'\r\n",
                "End"
            ],
            "metadata": {
                "azdata_cell_guid": "d7b0221a-105e-4eb6-acd8-218c0c921aee",
                "language": "sql"
            },
            "outputs": [
                {
                    "output_type": "error",
                    "evalue": "Msg 2714, Level 16, State 3, Procedure SPIncreaseSalaryOfEmp1, Line 3\r\nThere is already an object named 'SPIncreaseSalaryOfEmp1' in the database.",
                    "ename": "",
                    "traceback": []
                },
                {
                    "output_type": "display_data",
                    "data": {
                        "text/html": "Total execution time: 00:00:00.001"
                    },
                    "metadata": {}
                }
            ],
            "execution_count": 1
        },
        {
            "cell_type": "code",
            "source": [
                "DECLARE @salary int\r\n",
                "Exec @salary=SPIncreaseSalaryOfEmp1 100\r\n",
                "select @salary as salary \r\n",
                "\r\n",
                ""
            ],
            "metadata": {
                "language": "sql",
                "azdata_cell_guid": "ed9508d2-9f1c-4ef7-b060-fb8bdb9da0c0"
            },
            "outputs": [
                {
                    "output_type": "display_data",
                    "data": {
                        "text/html": "manager count not greater than 0"
                    },
                    "metadata": {}
                },
                {
                    "output_type": "display_data",
                    "data": {
                        "text/html": "(1 row affected)"
                    },
                    "metadata": {}
                },
                {
                    "output_type": "display_data",
                    "data": {
                        "text/html": "Total execution time: 00:00:00.008"
                    },
                    "metadata": {}
                },
                {
                    "output_type": "execute_result",
                    "metadata": {},
                    "execution_count": 2,
                    "data": {
                        "application/vnd.dataresource+json": {
                            "schema": {
                                "fields": [
                                    {
                                        "name": "salary"
                                    }
                                ]
                            },
                            "data": [
                                {
                                    "0": "0"
                                }
                            ]
                        },
                        "text/html": [
                            "<table>",
                            "<tr><th>salary</th></tr>",
                            "<tr><td>0</td></tr>",
                            "</table>"
                        ]
                    }
                }
            ],
            "execution_count": 2
        }
    ]
}