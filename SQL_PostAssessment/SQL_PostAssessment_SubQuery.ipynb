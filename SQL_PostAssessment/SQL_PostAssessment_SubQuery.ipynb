{
    "metadata": {
        "kernelspec": {
            "name": "SQL",
            "display_name": "SQL",
            "language": "sql"
        },
        "language_info": {
            "name": "sql",
            "version": ""
        }
    },
    "nbformat_minor": 2,
    "nbformat": 4,
    "cells": [
        {
            "cell_type": "code",
            "source": [
                "--Q1\r\n",
                "select last_name,hire_date from employees where last_name \r\n",
                "in (select last_name from employees where last_name in(\r\n",
                "'Russell','Partners','Taylor','Livingston','Grant','Johnson'))"
            ],
            "metadata": {
                "azdata_cell_guid": "74db6fbe-cff7-4214-81fa-f55576d40807",
                "language": "sql"
            },
            "outputs": [
                {
                    "output_type": "display_data",
                    "data": {
                        "text/html": "(6 rows affected)"
                    },
                    "metadata": {}
                },
                {
                    "output_type": "display_data",
                    "data": {
                        "text/html": "Total execution time: 00:00:00.015"
                    },
                    "metadata": {}
                },
                {
                    "output_type": "execute_result",
                    "metadata": {},
                    "execution_count": 1,
                    "data": {
                        "application/vnd.dataresource+json": {
                            "schema": {
                                "fields": [
                                    {
                                        "name": "last_name"
                                    },
                                    {
                                        "name": "hire_date"
                                    }
                                ]
                            },
                            "data": [
                                {
                                    "0": "Russell",
                                    "1": "1996-10-01"
                                },
                                {
                                    "0": "Partners",
                                    "1": "1997-01-05"
                                },
                                {
                                    "0": "Taylor",
                                    "1": "1998-03-24"
                                },
                                {
                                    "0": "Livingston",
                                    "1": "1998-04-23"
                                },
                                {
                                    "0": "Grant",
                                    "1": "1999-05-24"
                                },
                                {
                                    "0": "Johnson",
                                    "1": "2000-01-04"
                                }
                            ]
                        },
                        "text/html": [
                            "<table>",
                            "<tr><th>last_name</th><th>hire_date</th></tr>",
                            "<tr><td>Russell</td><td>1996-10-01</td></tr>",
                            "<tr><td>Partners</td><td>1997-01-05</td></tr>",
                            "<tr><td>Taylor</td><td>1998-03-24</td></tr>",
                            "<tr><td>Livingston</td><td>1998-04-23</td></tr>",
                            "<tr><td>Grant</td><td>1999-05-24</td></tr>",
                            "<tr><td>Johnson</td><td>2000-01-04</td></tr>",
                            "</table>"
                        ]
                    }
                }
            ],
            "execution_count": 1
        },
        {
            "cell_type": "code",
            "source": [
                "--Q2\r\n",
                "SELECT employee_id,first_name,salary FROM employees where salary \r\n",
                "in(select salary from employees where salary>=8200) order by salary asc"
            ],
            "metadata": {
                "language": "sql",
                "azdata_cell_guid": "94923fb8-5da3-46c1-82b8-53149cb6f8c0"
            },
            "outputs": [
                {
                    "output_type": "display_data",
                    "data": {
                        "text/html": "(17 rows affected)"
                    },
                    "metadata": {}
                },
                {
                    "output_type": "display_data",
                    "data": {
                        "text/html": "Total execution time: 00:00:00.013"
                    },
                    "metadata": {}
                },
                {
                    "output_type": "execute_result",
                    "metadata": {},
                    "execution_count": 21,
                    "data": {
                        "application/vnd.dataresource+json": {
                            "schema": {
                                "fields": [
                                    {
                                        "name": "employee_id"
                                    },
                                    {
                                        "name": "first_name"
                                    },
                                    {
                                        "name": "salary"
                                    }
                                ]
                            },
                            "data": [
                                {
                                    "0": "110",
                                    "1": "John",
                                    "2": "8200.00"
                                },
                                {
                                    "0": "121",
                                    "1": "Adam",
                                    "2": "8200.00"
                                },
                                {
                                    "0": "206",
                                    "1": "William",
                                    "2": "8300.00"
                                },
                                {
                                    "0": "177",
                                    "1": "Jack",
                                    "2": "8400.00"
                                },
                                {
                                    "0": "176",
                                    "1": "Jonathon",
                                    "2": "8600.00"
                                },
                                {
                                    "0": "103",
                                    "1": "Alexander",
                                    "2": "9000.00"
                                },
                                {
                                    "0": "109",
                                    "1": "Daniel",
                                    "2": "9000.00"
                                },
                                {
                                    "0": "204",
                                    "1": "Hermann",
                                    "2": "10000.00"
                                },
                                {
                                    "0": "114",
                                    "1": "Den",
                                    "2": "11000.00"
                                },
                                {
                                    "0": "108",
                                    "1": "Nancy",
                                    "2": "12000.00"
                                },
                                {
                                    "0": "205",
                                    "1": "Shelley",
                                    "2": "12000.00"
                                },
                                {
                                    "0": "201",
                                    "1": "Michael",
                                    "2": "13000.00"
                                },
                                {
                                    "0": "146",
                                    "1": "Karen",
                                    "2": "13500.00"
                                },
                                {
                                    "0": "145",
                                    "1": "John",
                                    "2": "14000.00"
                                },
                                {
                                    "0": "101",
                                    "1": "Neena",
                                    "2": "17000.00"
                                },
                                {
                                    "0": "102",
                                    "1": "Lex",
                                    "2": "17000.00"
                                },
                                {
                                    "0": "100",
                                    "1": "Steven",
                                    "2": "24000.00"
                                }
                            ]
                        },
                        "text/html": [
                            "<table>",
                            "<tr><th>employee_id</th><th>first_name</th><th>salary</th></tr>",
                            "<tr><td>110</td><td>John</td><td>8200.00</td></tr>",
                            "<tr><td>121</td><td>Adam</td><td>8200.00</td></tr>",
                            "<tr><td>206</td><td>William</td><td>8300.00</td></tr>",
                            "<tr><td>177</td><td>Jack</td><td>8400.00</td></tr>",
                            "<tr><td>176</td><td>Jonathon</td><td>8600.00</td></tr>",
                            "<tr><td>103</td><td>Alexander</td><td>9000.00</td></tr>",
                            "<tr><td>109</td><td>Daniel</td><td>9000.00</td></tr>",
                            "<tr><td>204</td><td>Hermann</td><td>10000.00</td></tr>",
                            "<tr><td>114</td><td>Den</td><td>11000.00</td></tr>",
                            "<tr><td>108</td><td>Nancy</td><td>12000.00</td></tr>",
                            "<tr><td>205</td><td>Shelley</td><td>12000.00</td></tr>",
                            "<tr><td>201</td><td>Michael</td><td>13000.00</td></tr>",
                            "<tr><td>146</td><td>Karen</td><td>13500.00</td></tr>",
                            "<tr><td>145</td><td>John</td><td>14000.00</td></tr>",
                            "<tr><td>101</td><td>Neena</td><td>17000.00</td></tr>",
                            "<tr><td>102</td><td>Lex</td><td>17000.00</td></tr>",
                            "<tr><td>100</td><td>Steven</td><td>24000.00</td></tr>",
                            "</table>"
                        ]
                    }
                }
            ],
            "execution_count": 21
        },
        {
            "cell_type": "code",
            "source": [
                "--Q3\r\n",
                "SELECT employee_id AS 'Employee Number' ,last_name from employees where employee_id \r\n",
                "in (select employee_id from employees where employee_id in(103,105,112,118,122,145))\r\n",
                ""
            ],
            "metadata": {
                "language": "sql",
                "azdata_cell_guid": "bd18ec71-2166-4319-8d88-0979763f024d"
            },
            "outputs": [
                {
                    "output_type": "display_data",
                    "data": {
                        "text/html": "(6 rows affected)"
                    },
                    "metadata": {}
                },
                {
                    "output_type": "display_data",
                    "data": {
                        "text/html": "Total execution time: 00:00:00.010"
                    },
                    "metadata": {}
                },
                {
                    "output_type": "execute_result",
                    "metadata": {},
                    "execution_count": 3,
                    "data": {
                        "application/vnd.dataresource+json": {
                            "schema": {
                                "fields": [
                                    {
                                        "name": "Employee Number"
                                    },
                                    {
                                        "name": "last_name"
                                    }
                                ]
                            },
                            "data": [
                                {
                                    "0": "103",
                                    "1": "Hunold"
                                },
                                {
                                    "0": "105",
                                    "1": "Austin"
                                },
                                {
                                    "0": "112",
                                    "1": "Urman"
                                },
                                {
                                    "0": "118",
                                    "1": "Himuro"
                                },
                                {
                                    "0": "122",
                                    "1": "Kaufling"
                                },
                                {
                                    "0": "145",
                                    "1": "Russell"
                                }
                            ]
                        },
                        "text/html": [
                            "<table>",
                            "<tr><th>Employee Number</th><th>last_name</th></tr>",
                            "<tr><td>103</td><td>Hunold</td></tr>",
                            "<tr><td>105</td><td>Austin</td></tr>",
                            "<tr><td>112</td><td>Urman</td></tr>",
                            "<tr><td>118</td><td>Himuro</td></tr>",
                            "<tr><td>122</td><td>Kaufling</td></tr>",
                            "<tr><td>145</td><td>Russell</td></tr>",
                            "</table>"
                        ]
                    }
                }
            ],
            "execution_count": 3
        },
        {
            "cell_type": "code",
            "source": [
                "--Q4\r\n",
                "select last_name,department_id as 'Department Number', job_id from employees \r\n",
                "where last_name=(select last_name from employees where last_name='Mavris')\r\n",
                ""
            ],
            "metadata": {
                "language": "sql",
                "azdata_cell_guid": "1a820938-6ff8-465c-bee8-09b2cc237955"
            },
            "outputs": [
                {
                    "output_type": "display_data",
                    "data": {
                        "text/html": "(1 row affected)"
                    },
                    "metadata": {}
                },
                {
                    "output_type": "display_data",
                    "data": {
                        "text/html": "Total execution time: 00:00:00.011"
                    },
                    "metadata": {}
                },
                {
                    "output_type": "execute_result",
                    "metadata": {},
                    "execution_count": 4,
                    "data": {
                        "application/vnd.dataresource+json": {
                            "schema": {
                                "fields": [
                                    {
                                        "name": "last_name"
                                    },
                                    {
                                        "name": "Department Number"
                                    },
                                    {
                                        "name": "job_id"
                                    }
                                ]
                            },
                            "data": [
                                {
                                    "0": "Mavris",
                                    "1": "4",
                                    "2": "8"
                                }
                            ]
                        },
                        "text/html": [
                            "<table>",
                            "<tr><th>last_name</th><th>Department Number</th><th>job_id</th></tr>",
                            "<tr><td>Mavris</td><td>4</td><td>8</td></tr>",
                            "</table>"
                        ]
                    }
                }
            ],
            "execution_count": 4
        },
        {
            "cell_type": "code",
            "source": [
                "--Q5\r\n",
                "SELECT last_name,salary FROM employees where manager_id=100\r\n",
                ""
            ],
            "metadata": {
                "language": "sql",
                "azdata_cell_guid": "908188df-3bb7-44b5-9d3c-1685ec26f156"
            },
            "outputs": [
                {
                    "output_type": "display_data",
                    "data": {
                        "text/html": "(14 rows affected)"
                    },
                    "metadata": {}
                },
                {
                    "output_type": "display_data",
                    "data": {
                        "text/html": "Total execution time: 00:00:00.009"
                    },
                    "metadata": {}
                },
                {
                    "output_type": "execute_result",
                    "metadata": {},
                    "execution_count": 11,
                    "data": {
                        "application/vnd.dataresource+json": {
                            "schema": {
                                "fields": [
                                    {
                                        "name": "last_name"
                                    },
                                    {
                                        "name": "salary"
                                    }
                                ]
                            },
                            "data": [
                                {
                                    "0": "Kochhar",
                                    "1": "17000.00"
                                },
                                {
                                    "0": "De Haan",
                                    "1": "17000.00"
                                },
                                {
                                    "0": "Raphaely",
                                    "1": "11000.00"
                                },
                                {
                                    "0": "Weiss",
                                    "1": "8000.00"
                                },
                                {
                                    "0": "Fripp",
                                    "1": "8200.00"
                                },
                                {
                                    "0": "Kaufling",
                                    "1": "7900.00"
                                },
                                {
                                    "0": "Vollman",
                                    "1": "6500.00"
                                },
                                {
                                    "0": "Russell",
                                    "1": "14000.00"
                                },
                                {
                                    "0": "Partners",
                                    "1": "13500.00"
                                },
                                {
                                    "0": "Taylor",
                                    "1": "8600.00"
                                },
                                {
                                    "0": "Livingston",
                                    "1": "8400.00"
                                },
                                {
                                    "0": "Grant",
                                    "1": "7000.00"
                                },
                                {
                                    "0": "Johnson",
                                    "1": "6200.00"
                                },
                                {
                                    "0": "Hartstein",
                                    "1": "13000.00"
                                }
                            ]
                        },
                        "text/html": [
                            "<table>",
                            "<tr><th>last_name</th><th>salary</th></tr>",
                            "<tr><td>Kochhar</td><td>17000.00</td></tr>",
                            "<tr><td>De Haan</td><td>17000.00</td></tr>",
                            "<tr><td>Raphaely</td><td>11000.00</td></tr>",
                            "<tr><td>Weiss</td><td>8000.00</td></tr>",
                            "<tr><td>Fripp</td><td>8200.00</td></tr>",
                            "<tr><td>Kaufling</td><td>7900.00</td></tr>",
                            "<tr><td>Vollman</td><td>6500.00</td></tr>",
                            "<tr><td>Russell</td><td>14000.00</td></tr>",
                            "<tr><td>Partners</td><td>13500.00</td></tr>",
                            "<tr><td>Taylor</td><td>8600.00</td></tr>",
                            "<tr><td>Livingston</td><td>8400.00</td></tr>",
                            "<tr><td>Grant</td><td>7000.00</td></tr>",
                            "<tr><td>Johnson</td><td>6200.00</td></tr>",
                            "<tr><td>Hartstein</td><td>13000.00</td></tr>",
                            "</table>"
                        ]
                    }
                }
            ],
            "execution_count": 11
        },
        {
            "cell_type": "code",
            "source": [
                "--Q6\r\n",
                "select department_id,last_name,job_id from employees where department_id \r\n",
                "in(select department_id from employees where department_id=6)\r\n",
                ""
            ],
            "metadata": {
                "language": "sql",
                "azdata_cell_guid": "cde76bea-d149-4150-9217-90f2d5748913"
            },
            "outputs": [
                {
                    "output_type": "display_data",
                    "data": {
                        "text/html": "(5 rows affected)"
                    },
                    "metadata": {}
                },
                {
                    "output_type": "display_data",
                    "data": {
                        "text/html": "Total execution time: 00:00:00.008"
                    },
                    "metadata": {}
                },
                {
                    "output_type": "execute_result",
                    "metadata": {},
                    "execution_count": 6,
                    "data": {
                        "application/vnd.dataresource+json": {
                            "schema": {
                                "fields": [
                                    {
                                        "name": "department_id"
                                    },
                                    {
                                        "name": "last_name"
                                    },
                                    {
                                        "name": "job_id"
                                    }
                                ]
                            },
                            "data": [
                                {
                                    "0": "6",
                                    "1": "Hunold",
                                    "2": "9"
                                },
                                {
                                    "0": "6",
                                    "1": "Ernst",
                                    "2": "9"
                                },
                                {
                                    "0": "6",
                                    "1": "Austin",
                                    "2": "9"
                                },
                                {
                                    "0": "6",
                                    "1": "Pataballa",
                                    "2": "9"
                                },
                                {
                                    "0": "6",
                                    "1": "Lorentz",
                                    "2": "9"
                                }
                            ]
                        },
                        "text/html": [
                            "<table>",
                            "<tr><th>department_id</th><th>last_name</th><th>job_id</th></tr>",
                            "<tr><td>6</td><td>Hunold</td><td>9</td></tr>",
                            "<tr><td>6</td><td>Ernst</td><td>9</td></tr>",
                            "<tr><td>6</td><td>Austin</td><td>9</td></tr>",
                            "<tr><td>6</td><td>Pataballa</td><td>9</td></tr>",
                            "<tr><td>6</td><td>Lorentz</td><td>9</td></tr>",
                            "</table>"
                        ]
                    }
                }
            ],
            "execution_count": 6
        },
        {
            "cell_type": "code",
            "source": [
                "--Q7\r\n",
                "select employee_id,last_name,salary from employees where employee_id \r\n",
                "in(select employee_id from employees where employee_id in(103,145))"
            ],
            "metadata": {
                "language": "sql",
                "azdata_cell_guid": "403ce8f1-648f-42e2-bb3e-fb867993ac5a"
            },
            "outputs": [
                {
                    "output_type": "display_data",
                    "data": {
                        "text/html": "(2 rows affected)"
                    },
                    "metadata": {}
                },
                {
                    "output_type": "display_data",
                    "data": {
                        "text/html": "Total execution time: 00:00:00.008"
                    },
                    "metadata": {}
                },
                {
                    "output_type": "execute_result",
                    "metadata": {},
                    "execution_count": 7,
                    "data": {
                        "application/vnd.dataresource+json": {
                            "schema": {
                                "fields": [
                                    {
                                        "name": "employee_id"
                                    },
                                    {
                                        "name": "last_name"
                                    },
                                    {
                                        "name": "salary"
                                    }
                                ]
                            },
                            "data": [
                                {
                                    "0": "103",
                                    "1": "Hunold",
                                    "2": "9000.00"
                                },
                                {
                                    "0": "145",
                                    "1": "Russell",
                                    "2": "14000.00"
                                }
                            ]
                        },
                        "text/html": [
                            "<table>",
                            "<tr><th>employee_id</th><th>last_name</th><th>salary</th></tr>",
                            "<tr><td>103</td><td>Hunold</td><td>9000.00</td></tr>",
                            "<tr><td>145</td><td>Russell</td><td>14000.00</td></tr>",
                            "</table>"
                        ]
                    }
                }
            ],
            "execution_count": 7
        },
        {
            "cell_type": "code",
            "source": [
                "--Q8 \r\n",
                "select first_name from employees where department_id=8"
            ],
            "metadata": {
                "language": "sql",
                "azdata_cell_guid": "ea809f12-47d5-4421-b3a0-a9037733f299"
            },
            "outputs": [
                {
                    "output_type": "display_data",
                    "data": {
                        "text/html": "(6 rows affected)"
                    },
                    "metadata": {}
                },
                {
                    "output_type": "display_data",
                    "data": {
                        "text/html": "Total execution time: 00:00:00.007"
                    },
                    "metadata": {}
                },
                {
                    "output_type": "execute_result",
                    "metadata": {},
                    "execution_count": 76,
                    "data": {
                        "application/vnd.dataresource+json": {
                            "schema": {
                                "fields": [
                                    {
                                        "name": "first_name"
                                    }
                                ]
                            },
                            "data": [
                                {
                                    "0": "John"
                                },
                                {
                                    "0": "Karen"
                                },
                                {
                                    "0": "Jonathon"
                                },
                                {
                                    "0": "Jack"
                                },
                                {
                                    "0": "Kimberely"
                                },
                                {
                                    "0": "Charles"
                                }
                            ]
                        },
                        "text/html": [
                            "<table>",
                            "<tr><th>first_name</th></tr>",
                            "<tr><td>John</td></tr>",
                            "<tr><td>Karen</td></tr>",
                            "<tr><td>Jonathon</td></tr>",
                            "<tr><td>Jack</td></tr>",
                            "<tr><td>Kimberely</td></tr>",
                            "<tr><td>Charles</td></tr>",
                            "</table>"
                        ]
                    }
                }
            ],
            "execution_count": 76
        },
        {
            "cell_type": "code",
            "source": [
                "--Q9\r\n",
                "select last_name,salary from employees where department_id=9"
            ],
            "metadata": {
                "language": "sql",
                "azdata_cell_guid": "68c45d8e-d220-4a2d-ae2d-e6e552daea47"
            },
            "outputs": [
                {
                    "output_type": "display_data",
                    "data": {
                        "text/html": "(3 rows affected)"
                    },
                    "metadata": {}
                },
                {
                    "output_type": "display_data",
                    "data": {
                        "text/html": "Total execution time: 00:00:00.006"
                    },
                    "metadata": {}
                },
                {
                    "output_type": "execute_result",
                    "metadata": {},
                    "execution_count": 22,
                    "data": {
                        "application/vnd.dataresource+json": {
                            "schema": {
                                "fields": [
                                    {
                                        "name": "last_name"
                                    },
                                    {
                                        "name": "salary"
                                    }
                                ]
                            },
                            "data": [
                                {
                                    "0": "King",
                                    "1": "24000.00"
                                },
                                {
                                    "0": "Kochhar",
                                    "1": "17000.00"
                                },
                                {
                                    "0": "De Haan",
                                    "1": "17000.00"
                                }
                            ]
                        },
                        "text/html": [
                            "<table>",
                            "<tr><th>last_name</th><th>salary</th></tr>",
                            "<tr><td>King</td><td>24000.00</td></tr>",
                            "<tr><td>Kochhar</td><td>17000.00</td></tr>",
                            "<tr><td>De Haan</td><td>17000.00</td></tr>",
                            "</table>"
                        ]
                    }
                }
            ],
            "execution_count": 22
        },
        {
            "cell_type": "code",
            "source": [
                "--Q10\r\n",
                "select top 3 first_name,salary,department_id from employees where manager_id in(select manager_id from employees where manager_id=100) order by salary DESC\r\n",
                ""
            ],
            "metadata": {
                "language": "sql",
                "azdata_cell_guid": "250583cc-7767-4b93-878b-aa9792c76be7",
                "tags": []
            },
            "outputs": [
                {
                    "output_type": "display_data",
                    "data": {
                        "text/html": "(3 rows affected)"
                    },
                    "metadata": {}
                },
                {
                    "output_type": "display_data",
                    "data": {
                        "text/html": "Total execution time: 00:00:00.012"
                    },
                    "metadata": {}
                },
                {
                    "output_type": "execute_result",
                    "metadata": {},
                    "execution_count": 43,
                    "data": {
                        "application/vnd.dataresource+json": {
                            "schema": {
                                "fields": [
                                    {
                                        "name": "first_name"
                                    },
                                    {
                                        "name": "salary"
                                    },
                                    {
                                        "name": "department_id"
                                    }
                                ]
                            },
                            "data": [
                                {
                                    "0": "Neena",
                                    "1": "17000.00",
                                    "2": "9"
                                },
                                {
                                    "0": "Lex",
                                    "1": "17000.00",
                                    "2": "9"
                                },
                                {
                                    "0": "John",
                                    "1": "14000.00",
                                    "2": "8"
                                }
                            ]
                        },
                        "text/html": [
                            "<table>",
                            "<tr><th>first_name</th><th>salary</th><th>department_id</th></tr>",
                            "<tr><td>Neena</td><td>17000.00</td><td>9</td></tr>",
                            "<tr><td>Lex</td><td>17000.00</td><td>9</td></tr>",
                            "<tr><td>John</td><td>14000.00</td><td>8</td></tr>",
                            "</table>"
                        ]
                    }
                }
            ],
            "execution_count": 43
        }
    ]
}